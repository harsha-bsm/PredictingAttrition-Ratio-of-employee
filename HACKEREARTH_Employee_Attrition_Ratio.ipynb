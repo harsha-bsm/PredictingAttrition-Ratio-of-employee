{
  "nbformat": 4,
  "nbformat_minor": 0,
  "metadata": {
    "colab": {
      "name": "HACKEREARTH_Employee Attrition Ratio.ipynb",
      "provenance": [],
      "collapsed_sections": [],
      "toc_visible": true
    },
    "kernelspec": {
      "name": "python3",
      "display_name": "Python 3"
    }
  },
  "cells": [
    {
      "cell_type": "code",
      "metadata": {
        "id": "kxxBNsUPCFmA",
        "colab_type": "code",
        "colab": {}
      },
      "source": [
        "import numpy as np\n",
        "import pandas as pd\n",
        "import sklearn\n",
        "from sklearn.datasets import load_iris\n",
        "from sklearn.neighbors import KNeighborsClassifier\n",
        "from sklearn.model_selection import train_test_split\n",
        "import matplotlib.pyplot as plt\n",
        "from sklearn.model_selection import GridSearchCV\n",
        "from sklearn.model_selection import RandomizedSearchCV\n",
        "from scipy.stats import randint\n",
        "from sklearn.pipeline import Pipeline\n",
        "from sklearn.metrics import confusion_matrix\n",
        "import seaborn as sns\n",
        "import sklearn\n",
        "from sklearn import metrics\n",
        "from sklearn.metrics import accuracy_score\n",
        "from sklearn.preprocessing import StandardScaler\n",
        "from sklearn.linear_model import LinearRegression\n",
        "from sklearn.linear_model import LogisticRegression\n",
        "from sklearn.utils import shuffle\n",
        "from sklearn.metrics import r2_score\n",
        "from sklearn.utils import shuffle\n",
        "from sklearn.tree import DecisionTreeClassifier \n",
        "from sklearn.feature_extraction.text import CountVectorizer\n",
        "from sklearn.feature_extraction.text import TfidfVectorizer\n",
        "import pickle\n",
        "import bz2\n",
        "from sklearn.linear_model import SGDClassifier\n",
        "from sklearn.linear_model import SGDRegressor\n",
        "from sklearn.metrics import roc_auc_score\n",
        "from sklearn.preprocessing import OneHotEncoder\n",
        "from sklearn.preprocessing import MinMaxScaler\n",
        "from sklearn.metrics import mean_squared_error\n",
        "from sklearn.tree import DecisionTreeRegressor\n",
        "from sklearn.ensemble import GradientBoostingRegressor"
      ],
      "execution_count": 144,
      "outputs": []
    },
    {
      "cell_type": "code",
      "metadata": {
        "id": "VNLPcAMEjGxD",
        "colab_type": "code",
        "colab": {}
      },
      "source": [
        "import warnings\n",
        "warnings.filterwarnings(\"ignore\")"
      ],
      "execution_count": 145,
      "outputs": []
    },
    {
      "cell_type": "code",
      "metadata": {
        "id": "fv_yWDO0umFr",
        "colab_type": "code",
        "colab": {}
      },
      "source": [
        "import xgboost"
      ],
      "execution_count": 146,
      "outputs": []
    },
    {
      "cell_type": "code",
      "metadata": {
        "id": "lzwV7y5JCWWt",
        "colab_type": "code",
        "colab": {}
      },
      "source": [
        "train=pd.read_csv(\"Train.csv\")\n",
        "test=pd.read_csv(\"Test.csv\")"
      ],
      "execution_count": 147,
      "outputs": []
    },
    {
      "cell_type": "markdown",
      "metadata": {
        "id": "cyq2rA3ogtoi",
        "colab_type": "text"
      },
      "source": [
        "#### FILLING NA VALUES  "
      ]
    },
    {
      "cell_type": "code",
      "metadata": {
        "id": "a_A8OGZvJHem",
        "colab_type": "code",
        "colab": {
          "base_uri": "https://localhost:8080/",
          "height": 33
        },
        "outputId": "c9a85f9c-5c43-4ab1-ee6c-e256d8d012f6"
      },
      "source": [
        "nacolumn_train=[]\n",
        "for i in  train.columns:\n",
        "  if pd.isna(train[i]).any():\n",
        "    nacolumn_train.append(i)\n",
        "nacolumn_train"
      ],
      "execution_count": 148,
      "outputs": [
        {
          "output_type": "execute_result",
          "data": {
            "text/plain": [
              "['Age', 'Time_of_service', 'Pay_Scale', 'Work_Life_balance', 'VAR2', 'VAR4']"
            ]
          },
          "metadata": {
            "tags": []
          },
          "execution_count": 148
        }
      ]
    },
    {
      "cell_type": "code",
      "metadata": {
        "id": "-36DY41_e52h",
        "colab_type": "code",
        "colab": {}
      },
      "source": [
        "dict_medianna={}\n",
        "for i in nacolumn_train:\n",
        "  dict_medianna[i]=train[i].mean()\n"
      ],
      "execution_count": 149,
      "outputs": []
    },
    {
      "cell_type": "code",
      "metadata": {
        "id": "JdPzVXWmfScS",
        "colab_type": "code",
        "colab": {
          "base_uri": "https://localhost:8080/",
          "height": 115
        },
        "outputId": "e20ae4f1-04f1-468c-f541-4d76b2ce25c9"
      },
      "source": [
        "dict_medianna"
      ],
      "execution_count": 150,
      "outputs": [
        {
          "output_type": "execute_result",
          "data": {
            "text/plain": [
              "{'Age': 39.62279902853673,\n",
              " 'Pay_Scale': 6.0062938063224145,\n",
              " 'Time_of_service': 13.385064177362894,\n",
              " 'VAR2': -0.008125969173281976,\n",
              " 'VAR4': 1.891078184110971,\n",
              " 'Work_Life_balance': 2.3878952639862643}"
            ]
          },
          "metadata": {
            "tags": []
          },
          "execution_count": 150
        }
      ]
    },
    {
      "cell_type": "code",
      "metadata": {
        "id": "E5zPIOzBRNEb",
        "colab_type": "code",
        "colab": {
          "base_uri": "https://localhost:8080/",
          "height": 33
        },
        "outputId": "d8887036-f1ac-4470-e6bf-d5794b4e5d76"
      },
      "source": [
        "nacolumn_test=[]\n",
        "for i in  test.columns:\n",
        "  if pd.isna(test[i]).any():\n",
        "    nacolumn_test.append(i)\n",
        "nacolumn_test"
      ],
      "execution_count": 151,
      "outputs": [
        {
          "output_type": "execute_result",
          "data": {
            "text/plain": [
              "['Age', 'Time_of_service', 'Pay_Scale', 'Work_Life_balance', 'VAR2', 'VAR4']"
            ]
          },
          "metadata": {
            "tags": []
          },
          "execution_count": 151
        }
      ]
    },
    {
      "cell_type": "code",
      "metadata": {
        "id": "XxfZuksBasnk",
        "colab_type": "code",
        "colab": {}
      },
      "source": [
        "train_filled=train.fillna(train.median())"
      ],
      "execution_count": 152,
      "outputs": []
    },
    {
      "cell_type": "code",
      "metadata": {
        "id": "daMGh4xCCei5",
        "colab_type": "code",
        "colab": {}
      },
      "source": [
        "test_filled=test.fillna(train.median())"
      ],
      "execution_count": 153,
      "outputs": []
    },
    {
      "cell_type": "code",
      "metadata": {
        "id": "fgMUzhKyk7Sh",
        "colab_type": "code",
        "colab": {}
      },
      "source": [
        "xtrain_filled=train_filled.drop(columns=[\"Attrition_rate\"])\n",
        "xtest_filled=test_filled"
      ],
      "execution_count": 154,
      "outputs": []
    },
    {
      "cell_type": "code",
      "metadata": {
        "id": "7TkfN-rdlHc1",
        "colab_type": "code",
        "colab": {}
      },
      "source": [
        "ytrain=train_filled[\"Attrition_rate\"]\n"
      ],
      "execution_count": 155,
      "outputs": []
    },
    {
      "cell_type": "code",
      "metadata": {
        "id": "QNBiVpV1GD32",
        "colab_type": "code",
        "colab": {}
      },
      "source": [
        "catdata_train=train_filled[[\"Gender\",\"Education_Level\",\"Relationship_Status\",\"Hometown\",\"Unit\",\"Decision_skill_possess\",\"Compensation_and_Benefits\"]]\n",
        "catdata_test=test_filled[[\"Gender\",\"Education_Level\",\"Relationship_Status\",\"Hometown\",\"Unit\",\"Decision_skill_possess\",\"Compensation_and_Benefits\"]]"
      ],
      "execution_count": 156,
      "outputs": []
    },
    {
      "cell_type": "code",
      "metadata": {
        "id": "XR0KSWV6G74d",
        "colab_type": "code",
        "colab": {}
      },
      "source": [
        "enc=OneHotEncoder()\n",
        "train_catohe=pd.DataFrame(enc.fit_transform(catdata_train).toarray(),columns=enc.get_feature_names())\n",
        "test_catohe=pd.DataFrame(enc.transform(catdata_test).toarray(),columns=enc.get_feature_names())"
      ],
      "execution_count": 157,
      "outputs": []
    },
    {
      "cell_type": "code",
      "metadata": {
        "id": "UV-4z0tdhksJ",
        "colab_type": "code",
        "colab": {
          "base_uri": "https://localhost:8080/",
          "height": 243
        },
        "outputId": "8a590dab-0e80-4225-cec9-05f8e1b894db"
      },
      "source": [
        "train_catohe.head()\n",
        "#enc.get_feature_names()"
      ],
      "execution_count": 158,
      "outputs": [
        {
          "output_type": "execute_result",
          "data": {
            "text/html": [
              "<div>\n",
              "<style scoped>\n",
              "    .dataframe tbody tr th:only-of-type {\n",
              "        vertical-align: middle;\n",
              "    }\n",
              "\n",
              "    .dataframe tbody tr th {\n",
              "        vertical-align: top;\n",
              "    }\n",
              "\n",
              "    .dataframe thead th {\n",
              "        text-align: right;\n",
              "    }\n",
              "</style>\n",
              "<table border=\"1\" class=\"dataframe\">\n",
              "  <thead>\n",
              "    <tr style=\"text-align: right;\">\n",
              "      <th></th>\n",
              "      <th>x0_F</th>\n",
              "      <th>x0_M</th>\n",
              "      <th>x1_1</th>\n",
              "      <th>x1_2</th>\n",
              "      <th>x1_3</th>\n",
              "      <th>x1_4</th>\n",
              "      <th>x1_5</th>\n",
              "      <th>x2_Married</th>\n",
              "      <th>x2_Single</th>\n",
              "      <th>x3_Clinton</th>\n",
              "      <th>x3_Franklin</th>\n",
              "      <th>x3_Lebanon</th>\n",
              "      <th>x3_Springfield</th>\n",
              "      <th>x3_Washington</th>\n",
              "      <th>x4_Accounting and Finance</th>\n",
              "      <th>x4_Human Resource Management</th>\n",
              "      <th>x4_IT</th>\n",
              "      <th>x4_Logistics</th>\n",
              "      <th>x4_Marketing</th>\n",
              "      <th>x4_Operarions</th>\n",
              "      <th>x4_Production</th>\n",
              "      <th>x4_Purchasing</th>\n",
              "      <th>x4_Quality</th>\n",
              "      <th>x4_R&amp;D</th>\n",
              "      <th>x4_Sales</th>\n",
              "      <th>x4_Security</th>\n",
              "      <th>x5_Analytical</th>\n",
              "      <th>x5_Behavioral</th>\n",
              "      <th>x5_Conceptual</th>\n",
              "      <th>x5_Directive</th>\n",
              "      <th>x6_type0</th>\n",
              "      <th>x6_type1</th>\n",
              "      <th>x6_type2</th>\n",
              "      <th>x6_type3</th>\n",
              "      <th>x6_type4</th>\n",
              "    </tr>\n",
              "  </thead>\n",
              "  <tbody>\n",
              "    <tr>\n",
              "      <th>0</th>\n",
              "      <td>1.0</td>\n",
              "      <td>0.0</td>\n",
              "      <td>0.0</td>\n",
              "      <td>0.0</td>\n",
              "      <td>0.0</td>\n",
              "      <td>1.0</td>\n",
              "      <td>0.0</td>\n",
              "      <td>1.0</td>\n",
              "      <td>0.0</td>\n",
              "      <td>0.0</td>\n",
              "      <td>1.0</td>\n",
              "      <td>0.0</td>\n",
              "      <td>0.0</td>\n",
              "      <td>0.0</td>\n",
              "      <td>0.0</td>\n",
              "      <td>0.0</td>\n",
              "      <td>1.0</td>\n",
              "      <td>0.0</td>\n",
              "      <td>0.0</td>\n",
              "      <td>0.0</td>\n",
              "      <td>0.0</td>\n",
              "      <td>0.0</td>\n",
              "      <td>0.0</td>\n",
              "      <td>0.0</td>\n",
              "      <td>0.0</td>\n",
              "      <td>0.0</td>\n",
              "      <td>0.0</td>\n",
              "      <td>0.0</td>\n",
              "      <td>1.0</td>\n",
              "      <td>0.0</td>\n",
              "      <td>0.0</td>\n",
              "      <td>0.0</td>\n",
              "      <td>1.0</td>\n",
              "      <td>0.0</td>\n",
              "      <td>0.0</td>\n",
              "    </tr>\n",
              "    <tr>\n",
              "      <th>1</th>\n",
              "      <td>0.0</td>\n",
              "      <td>1.0</td>\n",
              "      <td>0.0</td>\n",
              "      <td>0.0</td>\n",
              "      <td>1.0</td>\n",
              "      <td>0.0</td>\n",
              "      <td>0.0</td>\n",
              "      <td>0.0</td>\n",
              "      <td>1.0</td>\n",
              "      <td>0.0</td>\n",
              "      <td>0.0</td>\n",
              "      <td>0.0</td>\n",
              "      <td>1.0</td>\n",
              "      <td>0.0</td>\n",
              "      <td>0.0</td>\n",
              "      <td>0.0</td>\n",
              "      <td>0.0</td>\n",
              "      <td>1.0</td>\n",
              "      <td>0.0</td>\n",
              "      <td>0.0</td>\n",
              "      <td>0.0</td>\n",
              "      <td>0.0</td>\n",
              "      <td>0.0</td>\n",
              "      <td>0.0</td>\n",
              "      <td>0.0</td>\n",
              "      <td>0.0</td>\n",
              "      <td>1.0</td>\n",
              "      <td>0.0</td>\n",
              "      <td>0.0</td>\n",
              "      <td>0.0</td>\n",
              "      <td>0.0</td>\n",
              "      <td>0.0</td>\n",
              "      <td>1.0</td>\n",
              "      <td>0.0</td>\n",
              "      <td>0.0</td>\n",
              "    </tr>\n",
              "    <tr>\n",
              "      <th>2</th>\n",
              "      <td>1.0</td>\n",
              "      <td>0.0</td>\n",
              "      <td>0.0</td>\n",
              "      <td>0.0</td>\n",
              "      <td>1.0</td>\n",
              "      <td>0.0</td>\n",
              "      <td>0.0</td>\n",
              "      <td>1.0</td>\n",
              "      <td>0.0</td>\n",
              "      <td>1.0</td>\n",
              "      <td>0.0</td>\n",
              "      <td>0.0</td>\n",
              "      <td>0.0</td>\n",
              "      <td>0.0</td>\n",
              "      <td>0.0</td>\n",
              "      <td>0.0</td>\n",
              "      <td>0.0</td>\n",
              "      <td>0.0</td>\n",
              "      <td>0.0</td>\n",
              "      <td>0.0</td>\n",
              "      <td>0.0</td>\n",
              "      <td>0.0</td>\n",
              "      <td>1.0</td>\n",
              "      <td>0.0</td>\n",
              "      <td>0.0</td>\n",
              "      <td>0.0</td>\n",
              "      <td>0.0</td>\n",
              "      <td>0.0</td>\n",
              "      <td>1.0</td>\n",
              "      <td>0.0</td>\n",
              "      <td>0.0</td>\n",
              "      <td>0.0</td>\n",
              "      <td>1.0</td>\n",
              "      <td>0.0</td>\n",
              "      <td>0.0</td>\n",
              "    </tr>\n",
              "    <tr>\n",
              "      <th>3</th>\n",
              "      <td>1.0</td>\n",
              "      <td>0.0</td>\n",
              "      <td>0.0</td>\n",
              "      <td>0.0</td>\n",
              "      <td>1.0</td>\n",
              "      <td>0.0</td>\n",
              "      <td>0.0</td>\n",
              "      <td>0.0</td>\n",
              "      <td>1.0</td>\n",
              "      <td>0.0</td>\n",
              "      <td>0.0</td>\n",
              "      <td>1.0</td>\n",
              "      <td>0.0</td>\n",
              "      <td>0.0</td>\n",
              "      <td>0.0</td>\n",
              "      <td>1.0</td>\n",
              "      <td>0.0</td>\n",
              "      <td>0.0</td>\n",
              "      <td>0.0</td>\n",
              "      <td>0.0</td>\n",
              "      <td>0.0</td>\n",
              "      <td>0.0</td>\n",
              "      <td>0.0</td>\n",
              "      <td>0.0</td>\n",
              "      <td>0.0</td>\n",
              "      <td>0.0</td>\n",
              "      <td>0.0</td>\n",
              "      <td>1.0</td>\n",
              "      <td>0.0</td>\n",
              "      <td>0.0</td>\n",
              "      <td>0.0</td>\n",
              "      <td>0.0</td>\n",
              "      <td>1.0</td>\n",
              "      <td>0.0</td>\n",
              "      <td>0.0</td>\n",
              "    </tr>\n",
              "    <tr>\n",
              "      <th>4</th>\n",
              "      <td>1.0</td>\n",
              "      <td>0.0</td>\n",
              "      <td>1.0</td>\n",
              "      <td>0.0</td>\n",
              "      <td>0.0</td>\n",
              "      <td>0.0</td>\n",
              "      <td>0.0</td>\n",
              "      <td>1.0</td>\n",
              "      <td>0.0</td>\n",
              "      <td>0.0</td>\n",
              "      <td>0.0</td>\n",
              "      <td>0.0</td>\n",
              "      <td>1.0</td>\n",
              "      <td>0.0</td>\n",
              "      <td>0.0</td>\n",
              "      <td>0.0</td>\n",
              "      <td>0.0</td>\n",
              "      <td>1.0</td>\n",
              "      <td>0.0</td>\n",
              "      <td>0.0</td>\n",
              "      <td>0.0</td>\n",
              "      <td>0.0</td>\n",
              "      <td>0.0</td>\n",
              "      <td>0.0</td>\n",
              "      <td>0.0</td>\n",
              "      <td>0.0</td>\n",
              "      <td>0.0</td>\n",
              "      <td>0.0</td>\n",
              "      <td>1.0</td>\n",
              "      <td>0.0</td>\n",
              "      <td>0.0</td>\n",
              "      <td>0.0</td>\n",
              "      <td>0.0</td>\n",
              "      <td>1.0</td>\n",
              "      <td>0.0</td>\n",
              "    </tr>\n",
              "  </tbody>\n",
              "</table>\n",
              "</div>"
            ],
            "text/plain": [
              "   x0_F  x0_M  x1_1  x1_2  ...  x6_type1  x6_type2  x6_type3  x6_type4\n",
              "0   1.0   0.0   0.0   0.0  ...       0.0       1.0       0.0       0.0\n",
              "1   0.0   1.0   0.0   0.0  ...       0.0       1.0       0.0       0.0\n",
              "2   1.0   0.0   0.0   0.0  ...       0.0       1.0       0.0       0.0\n",
              "3   1.0   0.0   0.0   0.0  ...       0.0       1.0       0.0       0.0\n",
              "4   1.0   0.0   1.0   0.0  ...       0.0       0.0       1.0       0.0\n",
              "\n",
              "[5 rows x 35 columns]"
            ]
          },
          "metadata": {
            "tags": []
          },
          "execution_count": 158
        }
      ]
    },
    {
      "cell_type": "code",
      "metadata": {
        "id": "YLg-t7NEk9Kz",
        "colab_type": "code",
        "colab": {
          "base_uri": "https://localhost:8080/",
          "height": 243
        },
        "outputId": "ed424964-6a7b-4cdf-def9-a340ae5e7eb8"
      },
      "source": [
        "xtrain_filled.head()"
      ],
      "execution_count": 159,
      "outputs": [
        {
          "output_type": "execute_result",
          "data": {
            "text/html": [
              "<div>\n",
              "<style scoped>\n",
              "    .dataframe tbody tr th:only-of-type {\n",
              "        vertical-align: middle;\n",
              "    }\n",
              "\n",
              "    .dataframe tbody tr th {\n",
              "        vertical-align: top;\n",
              "    }\n",
              "\n",
              "    .dataframe thead th {\n",
              "        text-align: right;\n",
              "    }\n",
              "</style>\n",
              "<table border=\"1\" class=\"dataframe\">\n",
              "  <thead>\n",
              "    <tr style=\"text-align: right;\">\n",
              "      <th></th>\n",
              "      <th>Employee_ID</th>\n",
              "      <th>Gender</th>\n",
              "      <th>Age</th>\n",
              "      <th>Education_Level</th>\n",
              "      <th>Relationship_Status</th>\n",
              "      <th>Hometown</th>\n",
              "      <th>Unit</th>\n",
              "      <th>Decision_skill_possess</th>\n",
              "      <th>Time_of_service</th>\n",
              "      <th>Time_since_promotion</th>\n",
              "      <th>growth_rate</th>\n",
              "      <th>Travel_Rate</th>\n",
              "      <th>Post_Level</th>\n",
              "      <th>Pay_Scale</th>\n",
              "      <th>Compensation_and_Benefits</th>\n",
              "      <th>Work_Life_balance</th>\n",
              "      <th>VAR1</th>\n",
              "      <th>VAR2</th>\n",
              "      <th>VAR3</th>\n",
              "      <th>VAR4</th>\n",
              "      <th>VAR5</th>\n",
              "      <th>VAR6</th>\n",
              "      <th>VAR7</th>\n",
              "    </tr>\n",
              "  </thead>\n",
              "  <tbody>\n",
              "    <tr>\n",
              "      <th>0</th>\n",
              "      <td>EID_23371</td>\n",
              "      <td>F</td>\n",
              "      <td>42.0</td>\n",
              "      <td>4</td>\n",
              "      <td>Married</td>\n",
              "      <td>Franklin</td>\n",
              "      <td>IT</td>\n",
              "      <td>Conceptual</td>\n",
              "      <td>4.0</td>\n",
              "      <td>4</td>\n",
              "      <td>33</td>\n",
              "      <td>1</td>\n",
              "      <td>1</td>\n",
              "      <td>7.0</td>\n",
              "      <td>type2</td>\n",
              "      <td>3.0</td>\n",
              "      <td>4</td>\n",
              "      <td>0.7516</td>\n",
              "      <td>1.8688</td>\n",
              "      <td>2.0</td>\n",
              "      <td>4</td>\n",
              "      <td>5</td>\n",
              "      <td>3</td>\n",
              "    </tr>\n",
              "    <tr>\n",
              "      <th>1</th>\n",
              "      <td>EID_18000</td>\n",
              "      <td>M</td>\n",
              "      <td>24.0</td>\n",
              "      <td>3</td>\n",
              "      <td>Single</td>\n",
              "      <td>Springfield</td>\n",
              "      <td>Logistics</td>\n",
              "      <td>Analytical</td>\n",
              "      <td>5.0</td>\n",
              "      <td>4</td>\n",
              "      <td>36</td>\n",
              "      <td>0</td>\n",
              "      <td>3</td>\n",
              "      <td>6.0</td>\n",
              "      <td>type2</td>\n",
              "      <td>4.0</td>\n",
              "      <td>3</td>\n",
              "      <td>-0.9612</td>\n",
              "      <td>-0.4537</td>\n",
              "      <td>2.0</td>\n",
              "      <td>3</td>\n",
              "      <td>5</td>\n",
              "      <td>3</td>\n",
              "    </tr>\n",
              "    <tr>\n",
              "      <th>2</th>\n",
              "      <td>EID_3891</td>\n",
              "      <td>F</td>\n",
              "      <td>58.0</td>\n",
              "      <td>3</td>\n",
              "      <td>Married</td>\n",
              "      <td>Clinton</td>\n",
              "      <td>Quality</td>\n",
              "      <td>Conceptual</td>\n",
              "      <td>27.0</td>\n",
              "      <td>3</td>\n",
              "      <td>51</td>\n",
              "      <td>0</td>\n",
              "      <td>2</td>\n",
              "      <td>8.0</td>\n",
              "      <td>type2</td>\n",
              "      <td>1.0</td>\n",
              "      <td>4</td>\n",
              "      <td>-0.9612</td>\n",
              "      <td>-0.4537</td>\n",
              "      <td>3.0</td>\n",
              "      <td>3</td>\n",
              "      <td>8</td>\n",
              "      <td>3</td>\n",
              "    </tr>\n",
              "    <tr>\n",
              "      <th>3</th>\n",
              "      <td>EID_17492</td>\n",
              "      <td>F</td>\n",
              "      <td>26.0</td>\n",
              "      <td>3</td>\n",
              "      <td>Single</td>\n",
              "      <td>Lebanon</td>\n",
              "      <td>Human Resource Management</td>\n",
              "      <td>Behavioral</td>\n",
              "      <td>4.0</td>\n",
              "      <td>3</td>\n",
              "      <td>56</td>\n",
              "      <td>1</td>\n",
              "      <td>3</td>\n",
              "      <td>8.0</td>\n",
              "      <td>type2</td>\n",
              "      <td>1.0</td>\n",
              "      <td>3</td>\n",
              "      <td>-1.8176</td>\n",
              "      <td>-0.4537</td>\n",
              "      <td>2.0</td>\n",
              "      <td>3</td>\n",
              "      <td>7</td>\n",
              "      <td>3</td>\n",
              "    </tr>\n",
              "    <tr>\n",
              "      <th>4</th>\n",
              "      <td>EID_22534</td>\n",
              "      <td>F</td>\n",
              "      <td>31.0</td>\n",
              "      <td>1</td>\n",
              "      <td>Married</td>\n",
              "      <td>Springfield</td>\n",
              "      <td>Logistics</td>\n",
              "      <td>Conceptual</td>\n",
              "      <td>5.0</td>\n",
              "      <td>4</td>\n",
              "      <td>62</td>\n",
              "      <td>1</td>\n",
              "      <td>3</td>\n",
              "      <td>2.0</td>\n",
              "      <td>type3</td>\n",
              "      <td>3.0</td>\n",
              "      <td>1</td>\n",
              "      <td>0.7516</td>\n",
              "      <td>-0.4537</td>\n",
              "      <td>2.0</td>\n",
              "      <td>2</td>\n",
              "      <td>8</td>\n",
              "      <td>2</td>\n",
              "    </tr>\n",
              "  </tbody>\n",
              "</table>\n",
              "</div>"
            ],
            "text/plain": [
              "  Employee_ID Gender   Age  Education_Level  ... VAR4 VAR5 VAR6 VAR7\n",
              "0   EID_23371      F  42.0                4  ...  2.0    4    5    3\n",
              "1   EID_18000      M  24.0                3  ...  2.0    3    5    3\n",
              "2    EID_3891      F  58.0                3  ...  3.0    3    8    3\n",
              "3   EID_17492      F  26.0                3  ...  2.0    3    7    3\n",
              "4   EID_22534      F  31.0                1  ...  2.0    2    8    2\n",
              "\n",
              "[5 rows x 23 columns]"
            ]
          },
          "metadata": {
            "tags": []
          },
          "execution_count": 159
        }
      ]
    },
    {
      "cell_type": "code",
      "metadata": {
        "id": "lbqqRRuLhcjE",
        "colab_type": "code",
        "colab": {}
      },
      "source": [
        "sc=StandardScaler()"
      ],
      "execution_count": 160,
      "outputs": []
    },
    {
      "cell_type": "code",
      "metadata": {
        "id": "0iejf8TUkw5p",
        "colab_type": "code",
        "colab": {}
      },
      "source": [
        "train_growthrate=pd.DataFrame(sc.fit_transform(xtrain_filled[\"growth_rate\"].values.reshape(-1,1)),columns=[\"growth_rate\"])\n",
        "test_growthrate=pd.DataFrame(sc.transform(xtest_filled[\"growth_rate\"].values.reshape(-1,1)),columns=[\"growth_rate\"])"
      ],
      "execution_count": 161,
      "outputs": []
    },
    {
      "cell_type": "code",
      "metadata": {
        "id": "7_Tj2eq6kw2e",
        "colab_type": "code",
        "colab": {}
      },
      "source": [
        "train_Age=pd.DataFrame(sc.fit_transform(xtrain_filled[\"Age\"].values.reshape(-1,1)),columns=[\"Age\"])\n",
        "test_Age=pd.DataFrame(sc.transform(xtest_filled[\"Age\"].values.reshape(-1,1)),columns=[\"Age\"])"
      ],
      "execution_count": 162,
      "outputs": []
    },
    {
      "cell_type": "code",
      "metadata": {
        "id": "BHfOn-fWnpgm",
        "colab_type": "code",
        "colab": {}
      },
      "source": [
        "\n",
        "train_Time_of_service=pd.DataFrame(sc.fit_transform(xtrain_filled[\"Time_of_service\"].values.reshape(-1,1)),columns=[\"Time_of_service\"])\n",
        "test_Time_of_service=pd.DataFrame(sc.transform(xtest_filled[\"Time_of_service\"].values.reshape(-1,1)),columns=[\"Time_of_service\"])"
      ],
      "execution_count": 163,
      "outputs": []
    },
    {
      "cell_type": "code",
      "metadata": {
        "id": "myJGkhNro-DZ",
        "colab_type": "code",
        "colab": {}
      },
      "source": [
        "numerical=set([\"growth_rate\",\"Age\",\"Time_of_service\"])\n",
        "category=set(catdata_train.columns)\n",
        "minmax=set(xtrain_filled.columns)-numerical-category-set([\"Employee_ID\"])"
      ],
      "execution_count": 164,
      "outputs": []
    },
    {
      "cell_type": "code",
      "metadata": {
        "id": "qdiWtsn2qPJ8",
        "colab_type": "code",
        "colab": {
          "base_uri": "https://localhost:8080/",
          "height": 212
        },
        "outputId": "88715ffa-e3c7-435e-8080-b51234c0114a"
      },
      "source": [
        "minmax"
      ],
      "execution_count": 165,
      "outputs": [
        {
          "output_type": "execute_result",
          "data": {
            "text/plain": [
              "{'Pay_Scale',\n",
              " 'Post_Level',\n",
              " 'Time_since_promotion',\n",
              " 'Travel_Rate',\n",
              " 'VAR1',\n",
              " 'VAR2',\n",
              " 'VAR3',\n",
              " 'VAR4',\n",
              " 'VAR5',\n",
              " 'VAR6',\n",
              " 'VAR7',\n",
              " 'Work_Life_balance'}"
            ]
          },
          "metadata": {
            "tags": []
          },
          "execution_count": 165
        }
      ]
    },
    {
      "cell_type": "code",
      "metadata": {
        "id": "AwVhXc4QnpuN",
        "colab_type": "code",
        "colab": {}
      },
      "source": [
        "minmaxsc=MinMaxScaler()"
      ],
      "execution_count": 25,
      "outputs": []
    },
    {
      "cell_type": "code",
      "metadata": {
        "id": "eMe1wnrSnp7O",
        "colab_type": "code",
        "colab": {
          "base_uri": "https://localhost:8080/",
          "height": 33
        },
        "outputId": "1b0d78ca-7e2c-418f-c4e6-e3abfc87996f"
      },
      "source": [
        "minmaxsc.fit(xtrain_filled[minmax])"
      ],
      "execution_count": 26,
      "outputs": [
        {
          "output_type": "execute_result",
          "data": {
            "text/plain": [
              "MinMaxScaler(copy=True, feature_range=(0, 1))"
            ]
          },
          "metadata": {
            "tags": []
          },
          "execution_count": 26
        }
      ]
    },
    {
      "cell_type": "code",
      "metadata": {
        "id": "xtOgPkHVnmUo",
        "colab_type": "code",
        "colab": {}
      },
      "source": [
        "train_minmax=pd.DataFrame(xtrain_filled[minmax],columns=list(minmax))\n",
        "test_minmax=pd.DataFrame(xtest_filled[minmax],columns=list(minmax))"
      ],
      "execution_count": 166,
      "outputs": []
    },
    {
      "cell_type": "code",
      "metadata": {
        "id": "OW0XSGSznmgz",
        "colab_type": "code",
        "colab": {}
      },
      "source": [
        "train_vectorised=pd.concat([train_catohe,train_minmax,train_growthrate,train_Age,train_Time_of_service],axis=1)\n",
        "test_vectorised=pd.concat([test_catohe,test_minmax,test_growthrate,test_Age,test_Time_of_service],axis=1)"
      ],
      "execution_count": 167,
      "outputs": []
    },
    {
      "cell_type": "code",
      "metadata": {
        "id": "xy5MCtZ7TJVN",
        "colab_type": "code",
        "colab": {}
      },
      "source": [
        ""
      ],
      "execution_count": 167,
      "outputs": []
    },
    {
      "cell_type": "code",
      "metadata": {
        "id": "IskCS8pOnmaO",
        "colab_type": "code",
        "colab": {}
      },
      "source": [
        "lr=LinearRegression()"
      ],
      "execution_count": 168,
      "outputs": []
    },
    {
      "cell_type": "code",
      "metadata": {
        "id": "Du0Tob4dH4Uj",
        "colab_type": "code",
        "colab": {
          "base_uri": "https://localhost:8080/",
          "height": 33
        },
        "outputId": "6903a86f-521a-4a98-ccde-2d997d66baaf"
      },
      "source": [
        "lr.fit(train_vectorised,ytrain)"
      ],
      "execution_count": 169,
      "outputs": [
        {
          "output_type": "execute_result",
          "data": {
            "text/plain": [
              "LinearRegression(copy_X=True, fit_intercept=True, n_jobs=None, normalize=False)"
            ]
          },
          "metadata": {
            "tags": []
          },
          "execution_count": 169
        }
      ]
    },
    {
      "cell_type": "code",
      "metadata": {
        "id": "UxiS6htOSY7Z",
        "colab_type": "code",
        "colab": {
          "base_uri": "https://localhost:8080/",
          "height": 228
        },
        "outputId": "f7b03646-7496-4fe1-ec30-51c6f5e08f3b"
      },
      "source": [
        "lr.coef_"
      ],
      "execution_count": 170,
      "outputs": [
        {
          "output_type": "execute_result",
          "data": {
            "text/plain": [
              "array([-6.85987278e+08, -6.85987278e+08, -2.78382024e+11, -2.78382024e+11,\n",
              "       -2.78382024e+11, -2.78382024e+11, -2.78382024e+11, -6.18027953e+10,\n",
              "       -6.18027953e+10, -2.56992330e+11, -2.56992330e+11, -2.56992330e+11,\n",
              "       -2.56992330e+11, -2.56992330e+11, -4.68097355e+10, -4.68097355e+10,\n",
              "       -4.68097355e+10, -4.68097355e+10, -4.68097355e+10, -4.68097355e+10,\n",
              "       -4.68097355e+10, -4.68097355e+10, -4.68097355e+10, -4.68097355e+10,\n",
              "       -4.68097355e+10, -4.68097355e+10, -9.90231957e+10, -9.90231957e+10,\n",
              "       -9.90231957e+10, -9.90231957e+10,  2.14664718e+10,  2.14664718e+10,\n",
              "        2.14664718e+10,  2.14664718e+10,  2.14664718e+10, -3.90045546e-04,\n",
              "       -1.01288902e-03,  2.56034723e-04, -1.47212355e-03, -4.44061260e-03,\n",
              "       -3.84596821e-03, -3.31677282e-03,  3.46357892e-03,  2.99957980e-03,\n",
              "       -5.09650886e-03, -1.36487245e-03,  2.92052293e-03,  2.46237634e-03,\n",
              "       -9.59644637e-05, -3.53571109e-03])"
            ]
          },
          "metadata": {
            "tags": []
          },
          "execution_count": 170
        }
      ]
    },
    {
      "cell_type": "code",
      "metadata": {
        "id": "4Qf5tJW9SAlh",
        "colab_type": "code",
        "colab": {}
      },
      "source": [
        ""
      ],
      "execution_count": 170,
      "outputs": []
    },
    {
      "cell_type": "code",
      "metadata": {
        "id": "sgfwoYvNvZmZ",
        "colab_type": "code",
        "colab": {}
      },
      "source": [
        "train_predict=lr.predict(train_vectorised)"
      ],
      "execution_count": 171,
      "outputs": []
    },
    {
      "cell_type": "code",
      "metadata": {
        "id": "-_usjrrfskoD",
        "colab_type": "code",
        "colab": {}
      },
      "source": [
        "test_predict=lr.predict(test_vectorised)"
      ],
      "execution_count": 172,
      "outputs": []
    },
    {
      "cell_type": "code",
      "metadata": {
        "id": "QxwhYeBBsk0j",
        "colab_type": "code",
        "colab": {}
      },
      "source": [
        "mse=mean_squared_error(ytrain,train_predict)"
      ],
      "execution_count": 173,
      "outputs": []
    },
    {
      "cell_type": "code",
      "metadata": {
        "id": "VkJDfUK9slAe",
        "colab_type": "code",
        "colab": {
          "base_uri": "https://localhost:8080/",
          "height": 33
        },
        "outputId": "bf840715-8747-4da9-8eef-0f9d212787c7"
      },
      "source": [
        "mse"
      ],
      "execution_count": 174,
      "outputs": [
        {
          "output_type": "execute_result",
          "data": {
            "text/plain": [
              "0.03423900030973304"
            ]
          },
          "metadata": {
            "tags": []
          },
          "execution_count": 174
        }
      ]
    },
    {
      "cell_type": "code",
      "metadata": {
        "id": "Z6Los-JOslJC",
        "colab_type": "code",
        "colab": {}
      },
      "source": [
        "score=100*np.maximum(0,1-mse)"
      ],
      "execution_count": 175,
      "outputs": []
    },
    {
      "cell_type": "code",
      "metadata": {
        "id": "m6U1-GtNslOH",
        "colab_type": "code",
        "colab": {
          "base_uri": "https://localhost:8080/",
          "height": 33
        },
        "outputId": "b388e49c-b828-4768-f423-5f601c78b2d8"
      },
      "source": [
        "score"
      ],
      "execution_count": 176,
      "outputs": [
        {
          "output_type": "execute_result",
          "data": {
            "text/plain": [
              "96.5760999690267"
            ]
          },
          "metadata": {
            "tags": []
          },
          "execution_count": 176
        }
      ]
    },
    {
      "cell_type": "code",
      "metadata": {
        "id": "DS73rx-yiB6V",
        "colab_type": "code",
        "colab": {
          "base_uri": "https://localhost:8080/",
          "height": 212
        },
        "outputId": "7c9dc0d7-2863-4c0d-d8bd-30a3fff203f9"
      },
      "source": [
        "ytrain.loc[ytrain>0.6]"
      ],
      "execution_count": 177,
      "outputs": [
        {
          "output_type": "execute_result",
          "data": {
            "text/plain": [
              "5       0.7613\n",
              "19      0.6410\n",
              "25      0.8727\n",
              "27      0.6272\n",
              "38      0.6961\n",
              "         ...  \n",
              "6932    0.9735\n",
              "6946    0.6935\n",
              "6966    0.8574\n",
              "6995    0.7839\n",
              "6997    0.7847\n",
              "Name: Attrition_rate, Length: 410, dtype: float64"
            ]
          },
          "metadata": {
            "tags": []
          },
          "execution_count": 177
        }
      ]
    },
    {
      "cell_type": "code",
      "metadata": {
        "id": "xJ7sqUzshOh7",
        "colab_type": "code",
        "colab": {
          "base_uri": "https://localhost:8080/",
          "height": 298
        },
        "outputId": "64d2a5ff-bb6b-4b6a-877a-bd22d7829ddb"
      },
      "source": [
        "sns.distplot(ytrain)"
      ],
      "execution_count": 178,
      "outputs": [
        {
          "output_type": "execute_result",
          "data": {
            "text/plain": [
              "<matplotlib.axes._subplots.AxesSubplot at 0x7f8d58251550>"
            ]
          },
          "metadata": {
            "tags": []
          },
          "execution_count": 178
        },
        {
          "output_type": "display_data",
          "data": {
            "image/png": "[encoded data removed]",
            "text/plain": [
              "<Figure size 432x288 with 1 Axes>"
            ]
          },
          "metadata": {
            "tags": [],
            "needs_background": "light"
          }
        }
      ]
    },
    {
      "cell_type": "code",
      "metadata": {
        "id": "5BmvhWKfhiF-",
        "colab_type": "code",
        "colab": {
          "base_uri": "https://localhost:8080/",
          "height": 296
        },
        "outputId": "2ae32a0f-f106-4759-c1a0-8c959781bc99"
      },
      "source": [
        "sns.scatterplot(ytrain,ytrain-train_predict)"
      ],
      "execution_count": 179,
      "outputs": [
        {
          "output_type": "execute_result",
          "data": {
            "text/plain": [
              "<matplotlib.axes._subplots.AxesSubplot at 0x7f8d5819f7f0>"
            ]
          },
          "metadata": {
            "tags": []
          },
          "execution_count": 179
        },
        {
          "output_type": "display_data",
          "data": {
            "image/png": "[encoded data removed]",
            "text/plain": [
              "<Figure size 432x288 with 1 Axes>"
            ]
          },
          "metadata": {
            "tags": [],
            "needs_background": "light"
          }
        }
      ]
    },
    {
      "cell_type": "code",
      "metadata": {
        "id": "pAhSW9I7UVta",
        "colab_type": "code",
        "colab": {
          "base_uri": "https://localhost:8080/",
          "height": 180
        },
        "outputId": "5d71bd64-68df-4766-ab65-07ba3d25643d"
      },
      "source": [
        "weights_argasc=np.argsort(np.abs(lr.coef_))\n",
        "\n",
        "imp_feat=train_vectorised.columns[weights_argasc][0:40]\n",
        "imp_feat"
      ],
      "execution_count": 180,
      "outputs": [
        {
          "output_type": "execute_result",
          "data": {
            "text/plain": [
              "Index(['Age', 'VAR3', 'VAR6', 'VAR5', 'VAR1', 'Pay_Scale', 'growth_rate',\n",
              "       'Post_Level', 'Time_since_promotion', 'VAR7', 'Work_Life_balance',\n",
              "       'Time_of_service', 'Travel_Rate', 'VAR2', 'VAR4', 'x0_M', 'x0_F',\n",
              "       'x6_type3', 'x6_type2', 'x6_type4', 'x6_type1', 'x6_type0',\n",
              "       'x4_Purchasing', 'x4_Operarions', 'x4_R&D', 'x4_Sales', 'x4_Marketing',\n",
              "       'x4_Production', 'x4_Security', 'x4_Accounting and Finance',\n",
              "       'x4_Quality', 'x4_Human Resource Management', 'x4_Logistics', 'x4_IT',\n",
              "       'x2_Single', 'x2_Married', 'x5_Conceptual', 'x5_Directive',\n",
              "       'x5_Analytical', 'x5_Behavioral'],\n",
              "      dtype='object')"
            ]
          },
          "metadata": {
            "tags": []
          },
          "execution_count": 180
        }
      ]
    },
    {
      "cell_type": "code",
      "metadata": {
        "id": "HhggloZkhzm_",
        "colab_type": "code",
        "colab": {
          "base_uri": "https://localhost:8080/",
          "height": 196
        },
        "outputId": "3329e007-6935-409c-d93d-fc114fcad4df"
      },
      "source": [
        "new_features=train_vectorised.columns[weights_argasc][:45]\n",
        "new_features"
      ],
      "execution_count": 181,
      "outputs": [
        {
          "output_type": "execute_result",
          "data": {
            "text/plain": [
              "Index(['Age', 'VAR3', 'VAR6', 'VAR5', 'VAR1', 'Pay_Scale', 'growth_rate',\n",
              "       'Post_Level', 'Time_since_promotion', 'VAR7', 'Work_Life_balance',\n",
              "       'Time_of_service', 'Travel_Rate', 'VAR2', 'VAR4', 'x0_M', 'x0_F',\n",
              "       'x6_type3', 'x6_type2', 'x6_type4', 'x6_type1', 'x6_type0',\n",
              "       'x4_Purchasing', 'x4_Operarions', 'x4_R&D', 'x4_Sales', 'x4_Marketing',\n",
              "       'x4_Production', 'x4_Security', 'x4_Accounting and Finance',\n",
              "       'x4_Quality', 'x4_Human Resource Management', 'x4_Logistics', 'x4_IT',\n",
              "       'x2_Single', 'x2_Married', 'x5_Conceptual', 'x5_Directive',\n",
              "       'x5_Analytical', 'x5_Behavioral', 'x3_Springfield', 'x3_Washington',\n",
              "       'x3_Clinton', 'x3_Franklin', 'x3_Lebanon'],\n",
              "      dtype='object')"
            ]
          },
          "metadata": {
            "tags": []
          },
          "execution_count": 181
        }
      ]
    },
    {
      "cell_type": "code",
      "metadata": {
        "id": "fJxv-5SXx7k1",
        "colab_type": "code",
        "colab": {}
      },
      "source": [
        "final_data=pd.DataFrame(np.hstack((np.array(xtest_filled[\"Employee_ID\"]).reshape(3000,1),test_predict.reshape(3000,1))),columns=[\"Employee_ID\",\"Attrition_rate\"])"
      ],
      "execution_count": null,
      "outputs": []
    },
    {
      "cell_type": "code",
      "metadata": {
        "id": "hrhE94CY3NfO",
        "colab_type": "code",
        "colab": {}
      },
      "source": [
        "final_data.to_csv(\"finial_data.csv\",index=False)   #81.18777"
      ],
      "execution_count": null,
      "outputs": []
    },
    {
      "cell_type": "code",
      "metadata": {
        "id": "36waUWu3S9Ud",
        "colab_type": "code",
        "colab": {}
      },
      "source": [
        ""
      ],
      "execution_count": null,
      "outputs": []
    },
    {
      "cell_type": "code",
      "metadata": {
        "id": "2M0ViTKAS9OF",
        "colab_type": "code",
        "colab": {}
      },
      "source": [
        ""
      ],
      "execution_count": null,
      "outputs": []
    },
    {
      "cell_type": "code",
      "metadata": {
        "id": "NmE-8sWL5MSk",
        "colab_type": "code",
        "colab": {}
      },
      "source": [
        "sgd=SGDRegressor(penalty=\"l2\",learning_rate=\"constant\")\n"
      ],
      "execution_count": 182,
      "outputs": []
    },
    {
      "cell_type": "code",
      "metadata": {
        "id": "W_ek9vRh3_w7",
        "colab_type": "code",
        "colab": {}
      },
      "source": [
        ""
      ],
      "execution_count": 182,
      "outputs": []
    },
    {
      "cell_type": "code",
      "metadata": {
        "id": "MlgDnh7Xne96",
        "colab_type": "code",
        "colab": {
          "base_uri": "https://localhost:8080/",
          "height": 261
        },
        "outputId": "3a9c233f-6f4f-46d1-ed83-ba4a9a2a2877"
      },
      "source": [
        "gcv=GridSearchCV(estimator=sgd,scoring='neg_mean_squared_error',param_grid={\"alpha\":[0.0001,0.001,0.01,0.1,1,10,100]})\n",
        "gcv.fit(train_vectorised,ytrain)"
      ],
      "execution_count": 183,
      "outputs": [
        {
          "output_type": "execute_result",
          "data": {
            "text/plain": [
              "GridSearchCV(cv=None, error_score=nan,\n",
              "             estimator=SGDRegressor(alpha=0.0001, average=False,\n",
              "                                    early_stopping=False, epsilon=0.1,\n",
              "                                    eta0=0.01, fit_intercept=True,\n",
              "                                    l1_ratio=0.15, learning_rate='constant',\n",
              "                                    loss='squared_loss', max_iter=1000,\n",
              "                                    n_iter_no_change=5, penalty='l2',\n",
              "                                    power_t=0.25, random_state=None,\n",
              "                                    shuffle=True, tol=0.001,\n",
              "                                    validation_fraction=0.1, verbose=0,\n",
              "                                    warm_start=False),\n",
              "             iid='deprecated', n_jobs=None,\n",
              "             param_grid={'alpha': [0.0001, 0.001, 0.01, 0.1, 1, 10, 100]},\n",
              "             pre_dispatch='2*n_jobs', refit=True, return_train_score=False,\n",
              "             scoring='neg_mean_squared_error', verbose=0)"
            ]
          },
          "metadata": {
            "tags": []
          },
          "execution_count": 183
        }
      ]
    },
    {
      "cell_type": "code",
      "metadata": {
        "id": "47muWH_joW-T",
        "colab_type": "code",
        "colab": {}
      },
      "source": [
        ""
      ],
      "execution_count": 183,
      "outputs": []
    },
    {
      "cell_type": "code",
      "metadata": {
        "id": "ieQN4yexu4dA",
        "colab_type": "code",
        "colab": {
          "base_uri": "https://localhost:8080/",
          "height": 570
        },
        "outputId": "11fbcdf2-5eaf-44fb-a53b-977b73315da2"
      },
      "source": [
        "gcv.cv_results_"
      ],
      "execution_count": 184,
      "outputs": [
        {
          "output_type": "execute_result",
          "data": {
            "text/plain": [
              "{'mean_fit_time': array([0.02027469, 0.01900425, 0.02148237, 0.01992884, 0.01812668,\n",
              "        0.01992068, 0.01868525]),\n",
              " 'mean_score_time': array([0.00185261, 0.0016778 , 0.00174217, 0.00167575, 0.00273929,\n",
              "        0.00167041, 0.00173287]),\n",
              " 'mean_test_score': array([-7.49796164e-01, -2.33168656e-01, -2.49490329e-01, -1.74978262e-01,\n",
              "        -3.03890673e-01, -5.89175637e-02, -2.07431897e+24]),\n",
              " 'param_alpha': masked_array(data=[0.0001, 0.001, 0.01, 0.1, 1, 10, 100],\n",
              "              mask=[False, False, False, False, False, False, False],\n",
              "        fill_value='?',\n",
              "             dtype=object),\n",
              " 'params': [{'alpha': 0.0001},\n",
              "  {'alpha': 0.001},\n",
              "  {'alpha': 0.01},\n",
              "  {'alpha': 0.1},\n",
              "  {'alpha': 1},\n",
              "  {'alpha': 10},\n",
              "  {'alpha': 100}],\n",
              " 'rank_test_score': array([6, 3, 4, 2, 5, 1, 7], dtype=int32),\n",
              " 'split0_test_score': array([-7.00021444e-02, -1.18070999e-01, -7.99232160e-02, -4.56581147e-01,\n",
              "        -7.71530354e-02, -6.37574674e-02, -1.94042539e+24]),\n",
              " 'split1_test_score': array([-9.61020825e-02, -3.19533784e-01, -1.67041571e-01, -5.83916625e-02,\n",
              "        -1.07092445e+00, -3.72109476e-02, -2.21257241e+24]),\n",
              " 'split2_test_score': array([-2.87755881e+00, -1.11857319e-01, -8.82235181e-02, -5.67398654e-02,\n",
              "        -3.98182982e-02, -7.08983095e-02, -1.75924961e+24]),\n",
              " 'split3_test_score': array([-6.06686562e-01, -4.08451516e-01, -7.30629801e-02, -7.53284347e-02,\n",
              "        -1.20535849e-01, -8.03027207e-02, -1.82729017e+24]),\n",
              " 'split4_test_score': array([-9.86312274e-02, -2.07929659e-01, -8.39200361e-01, -2.27850202e-01,\n",
              "        -2.11021735e-01, -4.24183734e-02, -2.63205728e+24]),\n",
              " 'std_fit_time': array([0.00475157, 0.00291814, 0.00149972, 0.00346017, 0.0040429 ,\n",
              "        0.00197259, 0.00170915]),\n",
              " 'std_score_time': array([1.76811360e-04, 3.38542293e-05, 1.81229513e-04, 7.88044061e-05,\n",
              "        2.00318772e-03, 4.97600537e-05, 1.70530555e-04]),\n",
              " 'std_test_score': array([1.08271010e+00, 1.15571566e-01, 2.96797008e-01, 1.54659929e-01,\n",
              "        3.87744406e-01, 1.65389742e-02, 3.18874725e+23])}"
            ]
          },
          "metadata": {
            "tags": []
          },
          "execution_count": 184
        }
      ]
    },
    {
      "cell_type": "code",
      "metadata": {
        "id": "D9yemFYKogB6",
        "colab_type": "code",
        "colab": {}
      },
      "source": [
        "sgd=SGDRegressor(alpha=10)\n",
        "sgd.fit(train_vectorised,ytrain)\n",
        "testsgd_predict=sgd.predict(test_vectorised)"
      ],
      "execution_count": 185,
      "outputs": []
    },
    {
      "cell_type": "code",
      "metadata": {
        "id": "xx0HkcWwpsvc",
        "colab_type": "code",
        "colab": {}
      },
      "source": [
        "trainsgd_predict=sgd.predict(train_vectorised)"
      ],
      "execution_count": 186,
      "outputs": []
    },
    {
      "cell_type": "code",
      "metadata": {
        "id": "aAj7z4tVpybE",
        "colab_type": "code",
        "colab": {
          "base_uri": "https://localhost:8080/",
          "height": 33
        },
        "outputId": "9594e052-b49b-4b17-a150-fff4478e510d"
      },
      "source": [
        "mse_sgd=mean_squared_error(ytrain,trainsgd_predict)\n",
        "mse_sgd"
      ],
      "execution_count": 187,
      "outputs": [
        {
          "output_type": "execute_result",
          "data": {
            "text/plain": [
              "0.03607250170663637"
            ]
          },
          "metadata": {
            "tags": []
          },
          "execution_count": 187
        }
      ]
    },
    {
      "cell_type": "code",
      "metadata": {
        "id": "HnVECP00p93I",
        "colab_type": "code",
        "colab": {}
      },
      "source": [
        "final_data=pd.DataFrame(np.hstack((np.array(xtest_filled[\"Employee_ID\"]).reshape(3000,1),testsgd_predict.reshape(3000,1))),columns=[\"Employee_ID\",\"Attrition_rate\"])\n",
        "final_data.to_csv(\"finial_data.csv\",index=False) #100 81.25910 #10 81.244"
      ],
      "execution_count": 188,
      "outputs": []
    },
    {
      "cell_type": "code",
      "metadata": {
        "id": "7cUCoM4JqK-U",
        "colab_type": "code",
        "colab": {
          "base_uri": "https://localhost:8080/",
          "height": 228
        },
        "outputId": "e0322a4a-0530-42a3-b32a-32e207a996ba"
      },
      "source": [
        "sgd.coef_"
      ],
      "execution_count": 189,
      "outputs": [
        {
          "output_type": "execute_result",
          "data": {
            "text/plain": [
              "array([ 2.14441090e-04, -6.35395293e-04, -5.39693681e-05,  4.25062597e-05,\n",
              "       -5.18659962e-04, -2.41091578e-04,  3.50260445e-04,  9.02527573e-05,\n",
              "       -5.11206961e-04, -5.91281036e-04, -2.06246157e-04, -2.77505374e-04,\n",
              "        5.05979703e-04,  1.48098660e-04, -2.93858246e-04,  1.63695740e-04,\n",
              "        4.72033922e-04, -6.20269279e-04,  8.57521195e-05, -1.53280166e-04,\n",
              "        2.31529966e-05,  1.07300209e-04, -1.03122896e-04, -6.59805276e-05,\n",
              "        9.12637210e-05, -1.27641797e-04,  1.79780453e-04, -4.59548744e-04,\n",
              "        4.38594538e-05, -1.85045366e-04,  8.13141263e-05, -4.66994551e-05,\n",
              "       -7.01556265e-04,  5.04074164e-04, -2.58086774e-04, -1.81813811e-03,\n",
              "       -2.85486961e-04,  1.06751001e-03, -1.58271149e-03, -2.04902845e-03,\n",
              "       -4.53908764e-04, -9.60844583e-04, -1.44943470e-03,  7.59191300e-04,\n",
              "       -2.89759947e-04, -2.01508208e-04, -6.41609502e-04,  8.88726889e-07,\n",
              "       -3.20164327e-04,  3.05228273e-04])"
            ]
          },
          "metadata": {
            "tags": []
          },
          "execution_count": 189
        }
      ]
    },
    {
      "cell_type": "code",
      "metadata": {
        "id": "vex7Jm6nf_By",
        "colab_type": "code",
        "colab": {
          "base_uri": "https://localhost:8080/",
          "height": 66
        },
        "outputId": "20b28cae-78d7-4219-eb61-5e6aff308237"
      },
      "source": [
        "np.argsort(sgd.coef_)"
      ],
      "execution_count": 190,
      "outputs": [
        {
          "output_type": "execute_result",
          "data": {
            "text/plain": [
              "array([39, 35, 38, 42, 41, 32, 46,  1, 17,  9,  4,  8, 27, 40, 48, 14, 44,\n",
              "       36, 11, 34,  5, 10, 45, 29, 19, 25, 22, 23,  2, 31, 47, 20,  3, 28,\n",
              "       30, 18,  7, 24, 21, 13, 15, 26,  0, 49,  6, 16, 33, 12, 43, 37])"
            ]
          },
          "metadata": {
            "tags": []
          },
          "execution_count": 190
        }
      ]
    },
    {
      "cell_type": "code",
      "metadata": {
        "id": "ezcKpLXff-87",
        "colab_type": "code",
        "colab": {
          "base_uri": "https://localhost:8080/",
          "height": 212
        },
        "outputId": "c8054e02-097f-4c71-c4ce-f8db62ece195"
      },
      "source": [
        "train_vectorised.columns[np.argsort(np.abs((sgd.coef_)))]"
      ],
      "execution_count": 191,
      "outputs": [
        {
          "output_type": "execute_result",
          "data": {
            "text/plain": [
              "Index(['growth_rate', 'x4_Production', 'x1_2', 'x5_Conceptual', 'x6_type1',\n",
              "       'x1_1', 'x4_R&D', 'x6_type0', 'x4_Marketing', 'x2_Married', 'x4_Sales',\n",
              "       'x4_Quality', 'x4_Purchasing', 'x4_Security', 'x3_Washington',\n",
              "       'x4_Operarions', 'x4_Human Resource Management', 'x5_Analytical',\n",
              "       'x5_Directive', 'VAR1', 'x3_Franklin', 'x0_F', 'x1_4', 'x6_type4',\n",
              "       'x3_Lebanon', 'VAR5', 'VAR4', 'x4_Accounting and Finance',\n",
              "       'Time_of_service', 'Age', 'x1_5', 'Travel_Rate', 'x5_Behavioral',\n",
              "       'x4_IT', 'x6_type3', 'x3_Springfield', 'x2_Single', 'x1_3',\n",
              "       'x3_Clinton', 'x4_Logistics', 'x0_M', 'Post_Level', 'x6_type2',\n",
              "       'Time_since_promotion', 'VAR7', 'VAR3', 'Work_Life_balance',\n",
              "       'Pay_Scale', 'VAR6', 'VAR2'],\n",
              "      dtype='object')"
            ]
          },
          "metadata": {
            "tags": []
          },
          "execution_count": 191
        }
      ]
    },
    {
      "cell_type": "code",
      "metadata": {
        "id": "AcrpumMnf-qC",
        "colab_type": "code",
        "colab": {}
      },
      "source": [
        ""
      ],
      "execution_count": null,
      "outputs": []
    },
    {
      "cell_type": "code",
      "metadata": {
        "id": "m4Nc6XxDqTlD",
        "colab_type": "code",
        "colab": {}
      },
      "source": [
        ""
      ],
      "execution_count": 191,
      "outputs": []
    },
    {
      "cell_type": "code",
      "metadata": {
        "id": "7HnLnnDot9eE",
        "colab_type": "code",
        "colab": {
          "base_uri": "https://localhost:8080/",
          "height": 293
        },
        "outputId": "5e2851ab-2431-4ba1-9621-6ba77bbb8301"
      },
      "source": [
        "DT=DecisionTreeRegressor()\n",
        "parameters={\"max_depth\":[5,10,25,50,100],\"min_samples_split\":[2,10,50,100,250,500]}\n",
        "gcv=GridSearchCV(estimator=DT,param_grid=parameters)\n",
        "gcv.fit(train_vectorised,ytrain)"
      ],
      "execution_count": 192,
      "outputs": [
        {
          "output_type": "execute_result",
          "data": {
            "text/plain": [
              "GridSearchCV(cv=None, error_score=nan,\n",
              "             estimator=DecisionTreeRegressor(ccp_alpha=0.0, criterion='mse',\n",
              "                                             max_depth=None, max_features=None,\n",
              "                                             max_leaf_nodes=None,\n",
              "                                             min_impurity_decrease=0.0,\n",
              "                                             min_impurity_split=None,\n",
              "                                             min_samples_leaf=1,\n",
              "                                             min_samples_split=2,\n",
              "                                             min_weight_fraction_leaf=0.0,\n",
              "                                             presort='deprecated',\n",
              "                                             random_state=None,\n",
              "                                             splitter='best'),\n",
              "             iid='deprecated', n_jobs=None,\n",
              "             param_grid={'max_depth': [5, 10, 25, 50, 100],\n",
              "                         'min_samples_split': [2, 10, 50, 100, 250, 500]},\n",
              "             pre_dispatch='2*n_jobs', refit=True, return_train_score=False,\n",
              "             scoring=None, verbose=0)"
            ]
          },
          "metadata": {
            "tags": []
          },
          "execution_count": 192
        }
      ]
    },
    {
      "cell_type": "code",
      "metadata": {
        "id": "mj1kQ3oHukOo",
        "colab_type": "code",
        "colab": {}
      },
      "source": [
        ""
      ],
      "execution_count": 192,
      "outputs": []
    },
    {
      "cell_type": "code",
      "metadata": {
        "id": "BMo4Q2vbxBjS",
        "colab_type": "code",
        "colab": {}
      },
      "source": [
        ""
      ],
      "execution_count": 192,
      "outputs": []
    },
    {
      "cell_type": "code",
      "metadata": {
        "id": "jjzeCT2xxHhF",
        "colab_type": "code",
        "colab": {
          "base_uri": "https://localhost:8080/",
          "height": 1000
        },
        "outputId": "9761412f-c58e-4902-b9bf-00d41491d555"
      },
      "source": [
        "gcv.cv_results_"
      ],
      "execution_count": 193,
      "outputs": [
        {
          "output_type": "execute_result",
          "data": {
            "text/plain": [
              "{'mean_fit_time': array([0.02126527, 0.01999588, 0.01972079, 0.01965475, 0.01896987,\n",
              "        0.01859541, 0.03765049, 0.03918757, 0.03645296, 0.0340827 ,\n",
              "        0.02953653, 0.02622671, 0.08476501, 0.06422691, 0.04606462,\n",
              "        0.04034729, 0.03202734, 0.02670441, 0.08679252, 0.06434064,\n",
              "        0.04613056, 0.04010396, 0.03219752, 0.02693777, 0.08798575,\n",
              "        0.06361384, 0.04609685, 0.04067373, 0.03187876, 0.02708855]),\n",
              " 'mean_score_time': array([0.00196548, 0.00174651, 0.00169692, 0.00167589, 0.00171771,\n",
              "        0.00168061, 0.00211067, 0.00203595, 0.00206518, 0.00197797,\n",
              "        0.00181212, 0.00193558, 0.00249352, 0.00227151, 0.00202322,\n",
              "        0.00201364, 0.00185294, 0.00177889, 0.00251684, 0.00223298,\n",
              "        0.00206814, 0.00203986, 0.0019248 , 0.0018364 , 0.00267053,\n",
              "        0.00226927, 0.00209937, 0.00203342, 0.00183134, 0.00183244]),\n",
              " 'mean_test_score': array([-0.04875989, -0.04882562, -0.03849457, -0.03221394, -0.02091416,\n",
              "        -0.01663916, -0.35862905, -0.28912261, -0.14150234, -0.09337984,\n",
              "        -0.04196428, -0.03179182, -1.21476253, -0.82615175, -0.28497232,\n",
              "        -0.14746942, -0.05469838, -0.03309897, -1.23337352, -0.82587644,\n",
              "        -0.2846745 , -0.14746942, -0.05469838, -0.03309897, -1.20696662,\n",
              "        -0.82561981, -0.2846745 , -0.14746942, -0.05469838, -0.03309897]),\n",
              " 'param_max_depth': masked_array(data=[5, 5, 5, 5, 5, 5, 10, 10, 10, 10, 10, 10, 25, 25, 25,\n",
              "                    25, 25, 25, 50, 50, 50, 50, 50, 50, 100, 100, 100, 100,\n",
              "                    100, 100],\n",
              "              mask=[False, False, False, False, False, False, False, False,\n",
              "                    False, False, False, False, False, False, False, False,\n",
              "                    False, False, False, False, False, False, False, False,\n",
              "                    False, False, False, False, False, False],\n",
              "        fill_value='?',\n",
              "             dtype=object),\n",
              " 'param_min_samples_split': masked_array(data=[2, 10, 50, 100, 250, 500, 2, 10, 50, 100, 250, 500, 2,\n",
              "                    10, 50, 100, 250, 500, 2, 10, 50, 100, 250, 500, 2, 10,\n",
              "                    50, 100, 250, 500],\n",
              "              mask=[False, False, False, False, False, False, False, False,\n",
              "                    False, False, False, False, False, False, False, False,\n",
              "                    False, False, False, False, False, False, False, False,\n",
              "                    False, False, False, False, False, False],\n",
              "        fill_value='?',\n",
              "             dtype=object),\n",
              " 'params': [{'max_depth': 5, 'min_samples_split': 2},\n",
              "  {'max_depth': 5, 'min_samples_split': 10},\n",
              "  {'max_depth': 5, 'min_samples_split': 50},\n",
              "  {'max_depth': 5, 'min_samples_split': 100},\n",
              "  {'max_depth': 5, 'min_samples_split': 250},\n",
              "  {'max_depth': 5, 'min_samples_split': 500},\n",
              "  {'max_depth': 10, 'min_samples_split': 2},\n",
              "  {'max_depth': 10, 'min_samples_split': 10},\n",
              "  {'max_depth': 10, 'min_samples_split': 50},\n",
              "  {'max_depth': 10, 'min_samples_split': 100},\n",
              "  {'max_depth': 10, 'min_samples_split': 250},\n",
              "  {'max_depth': 10, 'min_samples_split': 500},\n",
              "  {'max_depth': 25, 'min_samples_split': 2},\n",
              "  {'max_depth': 25, 'min_samples_split': 10},\n",
              "  {'max_depth': 25, 'min_samples_split': 50},\n",
              "  {'max_depth': 25, 'min_samples_split': 100},\n",
              "  {'max_depth': 25, 'min_samples_split': 250},\n",
              "  {'max_depth': 25, 'min_samples_split': 500},\n",
              "  {'max_depth': 50, 'min_samples_split': 2},\n",
              "  {'max_depth': 50, 'min_samples_split': 10},\n",
              "  {'max_depth': 50, 'min_samples_split': 50},\n",
              "  {'max_depth': 50, 'min_samples_split': 100},\n",
              "  {'max_depth': 50, 'min_samples_split': 250},\n",
              "  {'max_depth': 50, 'min_samples_split': 500},\n",
              "  {'max_depth': 100, 'min_samples_split': 2},\n",
              "  {'max_depth': 100, 'min_samples_split': 10},\n",
              "  {'max_depth': 100, 'min_samples_split': 50},\n",
              "  {'max_depth': 100, 'min_samples_split': 100},\n",
              "  {'max_depth': 100, 'min_samples_split': 250},\n",
              "  {'max_depth': 100, 'min_samples_split': 500}],\n",
              " 'rank_test_score': array([10, 11,  8,  4,  2,  1, 24, 23, 16, 15,  9,  3, 29, 27, 22, 17, 13,\n",
              "         6, 30, 26, 21, 19, 12,  5, 28, 25, 20, 17, 14,  6], dtype=int32),\n",
              " 'split0_test_score': array([-0.0597245 , -0.05635628, -0.05333497, -0.03586547, -0.01383929,\n",
              "        -0.01423555, -0.47294317, -0.39069651, -0.22210538, -0.14734528,\n",
              "        -0.03580903, -0.03397005, -1.16418247, -0.78835364, -0.29855668,\n",
              "        -0.17116255, -0.03058527, -0.0303926 , -1.18958674, -0.78946503,\n",
              "        -0.29855668, -0.17116255, -0.03058527, -0.0303926 , -1.25276199,\n",
              "        -0.80842419, -0.29855668, -0.17116255, -0.03058527, -0.0303926 ]),\n",
              " 'split1_test_score': array([-0.05142414, -0.04665616, -0.03370701, -0.03480012, -0.02034147,\n",
              "        -0.02034147, -0.42535568, -0.33841904, -0.13203309, -0.07249357,\n",
              "        -0.03919752, -0.03460167, -1.2389735 , -0.87889635, -0.27655689,\n",
              "        -0.12155591, -0.05287023, -0.04076947, -1.25725231, -0.87339493,\n",
              "        -0.27655689, -0.12155591, -0.05287023, -0.04076947, -1.28805287,\n",
              "        -0.85947213, -0.27655689, -0.12155591, -0.05287023, -0.04076947]),\n",
              " 'split2_test_score': array([-0.03659471, -0.02728238, -0.02202535, -0.01412854, -0.0089757 ,\n",
              "        -0.00731339, -0.25621006, -0.23459737, -0.11681247, -0.05477262,\n",
              "        -0.03222766, -0.02794342, -1.35350033, -1.0158409 , -0.35092768,\n",
              "        -0.13092617, -0.05236144, -0.02794342, -1.44256645, -1.05692507,\n",
              "        -0.35092768, -0.13092617, -0.05236144, -0.02794342, -1.31489398,\n",
              "        -1.03106884, -0.35092768, -0.13092617, -0.05236144, -0.02794342]),\n",
              " 'split3_test_score': array([-0.0633273 , -0.06573229, -0.05240493, -0.04890397, -0.04204374,\n",
              "        -0.0222999 , -0.33929678, -0.25524119, -0.13427251, -0.10609876,\n",
              "        -0.06735508, -0.03623413, -1.29360101, -0.77514957, -0.2782777 ,\n",
              "        -0.15632045, -0.08520339, -0.03712783, -1.22627525, -0.74704707,\n",
              "        -0.2782777 , -0.15632045, -0.08520339, -0.03712783, -1.18267352,\n",
              "        -0.77189645, -0.2782777 , -0.15632045, -0.08520339, -0.03712783]),\n",
              " 'split4_test_score': array([-0.0327288 , -0.04810101, -0.0310006 , -0.02737159, -0.01937062,\n",
              "        -0.01900546, -0.29933956, -0.22665896, -0.10228824, -0.08618899,\n",
              "        -0.03523208, -0.02620984, -1.02355535, -0.67251829, -0.22054265,\n",
              "        -0.157382  , -0.05247158, -0.02926152, -1.05118687, -0.66255009,\n",
              "        -0.21905352, -0.157382  , -0.05247158, -0.02926152, -0.99645076,\n",
              "        -0.65723744, -0.21905352, -0.157382  , -0.05247158, -0.02926152]),\n",
              " 'std_fit_time': array([0.00165519, 0.00033619, 0.00040698, 0.00039466, 0.00037081,\n",
              "        0.00072323, 0.00026516, 0.00133257, 0.00032601, 0.00076163,\n",
              "        0.00126682, 0.00175979, 0.00267572, 0.00088902, 0.00169325,\n",
              "        0.00334987, 0.00172701, 0.00204307, 0.00231984, 0.00140312,\n",
              "        0.00173932, 0.00185823, 0.00156744, 0.00212185, 0.00194407,\n",
              "        0.00176422, 0.00197139, 0.00294449, 0.00171867, 0.0018543 ]),\n",
              " 'std_score_time': array([3.16970642e-04, 9.50675780e-05, 8.62456727e-05, 1.38056290e-04,\n",
              "        1.17697050e-04, 9.41781756e-05, 8.03256785e-05, 2.48662810e-04,\n",
              "        1.82310006e-04, 1.19815183e-04, 1.28664644e-04, 1.82249482e-04,\n",
              "        1.60373317e-05, 3.31628502e-05, 6.81515244e-05, 1.56818787e-04,\n",
              "        1.56575012e-04, 1.53582461e-04, 1.43392838e-04, 1.15910316e-04,\n",
              "        9.69135130e-05, 9.27766804e-05, 1.51999457e-04, 1.57942158e-04,\n",
              "        4.28277207e-04, 1.01512908e-04, 1.16089000e-04, 1.34517647e-04,\n",
              "        1.51383249e-04, 5.60806720e-05]),\n",
              " 'std_test_score': array([0.0122026 , 0.01274276, 0.01236164, 0.01139394, 0.01132917,\n",
              "        0.00536839, 0.07987339, 0.06445162, 0.04191926, 0.03178837,\n",
              "        0.01288688, 0.00395835, 0.11416513, 0.11523639, 0.04195585,\n",
              "        0.0183475 , 0.0174686 , 0.0049739 , 0.12608848, 0.13405732,\n",
              "        0.04241492, 0.0183475 , 0.0174686 , 0.0049739 , 0.11421698,\n",
              "        0.12238447, 0.04241492, 0.0183475 , 0.0174686 , 0.0049739 ])}"
            ]
          },
          "metadata": {
            "tags": []
          },
          "execution_count": 193
        }
      ]
    },
    {
      "cell_type": "code",
      "metadata": {
        "id": "T0O0vBt3xTdd",
        "colab_type": "code",
        "colab": {}
      },
      "source": [
        "DT=DecisionTreeRegressor(max_depth=5,min_samples_split=500)"
      ],
      "execution_count": 204,
      "outputs": []
    },
    {
      "cell_type": "code",
      "metadata": {
        "id": "SuU5CaaUxvoI",
        "colab_type": "code",
        "colab": {
          "base_uri": "https://localhost:8080/",
          "height": 115
        },
        "outputId": "29793546-73f3-4887-ceea-8c860ca38a1a"
      },
      "source": [
        "DT.fit(train_vectorised,ytrain)"
      ],
      "execution_count": 205,
      "outputs": [
        {
          "output_type": "execute_result",
          "data": {
            "text/plain": [
              "DecisionTreeRegressor(ccp_alpha=0.0, criterion='mse', max_depth=5,\n",
              "                      max_features=None, max_leaf_nodes=None,\n",
              "                      min_impurity_decrease=0.0, min_impurity_split=None,\n",
              "                      min_samples_leaf=1, min_samples_split=500,\n",
              "                      min_weight_fraction_leaf=0.0, presort='deprecated',\n",
              "                      random_state=None, splitter='best')"
            ]
          },
          "metadata": {
            "tags": []
          },
          "execution_count": 205
        }
      ]
    },
    {
      "cell_type": "code",
      "metadata": {
        "id": "sFpgStudx0yR",
        "colab_type": "code",
        "colab": {}
      },
      "source": [
        "DT_trainpredict=DT.predict(train_vectorised)"
      ],
      "execution_count": 206,
      "outputs": []
    },
    {
      "cell_type": "code",
      "metadata": {
        "id": "xWU91KuyyCa0",
        "colab_type": "code",
        "colab": {
          "base_uri": "https://localhost:8080/",
          "height": 33
        },
        "outputId": "4c389d4b-eab7-49ec-8f32-ec7323420677"
      },
      "source": [
        "mean_squared_error(ytrain,DT_trainpredict)"
      ],
      "execution_count": 207,
      "outputs": [
        {
          "output_type": "execute_result",
          "data": {
            "text/plain": [
              "0.0340525558749313"
            ]
          },
          "metadata": {
            "tags": []
          },
          "execution_count": 207
        }
      ]
    },
    {
      "cell_type": "code",
      "metadata": {
        "id": "vFOUNPmwyGir",
        "colab_type": "code",
        "colab": {}
      },
      "source": [
        "DT_testpredict=DT.predict(test_vectorised)"
      ],
      "execution_count": 208,
      "outputs": []
    },
    {
      "cell_type": "code",
      "metadata": {
        "id": "rwoWfoLAyP1z",
        "colab_type": "code",
        "colab": {}
      },
      "source": [
        "final_data=pd.DataFrame(np.hstack((np.array(xtest_filled[\"Employee_ID\"]).reshape(3000,1),DT_testpredict.reshape(3000,1))),columns=[\"Employee_ID\",\"Attrition_rate\"])\n",
        "final_data.to_csv(\"finial_data.csv\",index=False)"
      ],
      "execution_count": 209,
      "outputs": []
    },
    {
      "cell_type": "code",
      "metadata": {
        "id": "_gLTsoXnycQZ",
        "colab_type": "code",
        "colab": {}
      },
      "source": [
        ""
      ],
      "execution_count": null,
      "outputs": []
    },
    {
      "cell_type": "code",
      "metadata": {
        "id": "x4PamvrenaQX",
        "colab_type": "code",
        "colab": {}
      },
      "source": [
        ""
      ],
      "execution_count": null,
      "outputs": []
    },
    {
      "cell_type": "code",
      "metadata": {
        "id": "Nmsw219enZ8T",
        "colab_type": "code",
        "colab": {}
      },
      "source": [
        "from sklearn.svm import SVR"
      ],
      "execution_count": 210,
      "outputs": []
    },
    {
      "cell_type": "code",
      "metadata": {
        "id": "MpYj8Ry4odJ0",
        "colab_type": "code",
        "colab": {}
      },
      "source": [
        "svr=SVR(kernel=\"poly\",degree=2)\n",
        "parameters={\"C\":[0.001,0.01,0.1,1,10,100]}"
      ],
      "execution_count": 211,
      "outputs": []
    },
    {
      "cell_type": "code",
      "metadata": {
        "id": "c73HSRQuogUZ",
        "colab_type": "code",
        "colab": {
          "base_uri": "https://localhost:8080/",
          "height": 163
        },
        "outputId": "2073dfd3-f4de-41ce-88a4-19c11fe84dff"
      },
      "source": [
        "gcv=GridSearchCV(estimator=svr,scoring='neg_mean_squared_error',param_grid=parameters)\n",
        "gcv.fit(train_vectorised,ytrain)"
      ],
      "execution_count": 212,
      "outputs": [
        {
          "output_type": "execute_result",
          "data": {
            "text/plain": [
              "GridSearchCV(cv=None, error_score=nan,\n",
              "             estimator=SVR(C=1.0, cache_size=200, coef0=0.0, degree=2,\n",
              "                           epsilon=0.1, gamma='scale', kernel='poly',\n",
              "                           max_iter=-1, shrinking=True, tol=0.001,\n",
              "                           verbose=False),\n",
              "             iid='deprecated', n_jobs=None,\n",
              "             param_grid={'C': [0.001, 0.01, 0.1, 1, 10, 100]},\n",
              "             pre_dispatch='2*n_jobs', refit=True, return_train_score=False,\n",
              "             scoring='neg_mean_squared_error', verbose=0)"
            ]
          },
          "metadata": {
            "tags": []
          },
          "execution_count": 212
        }
      ]
    },
    {
      "cell_type": "code",
      "metadata": {
        "id": "kNueUk-HpB6G",
        "colab_type": "code",
        "colab": {
          "base_uri": "https://localhost:8080/",
          "height": 553
        },
        "outputId": "7da5b924-de17-4749-b76c-85f2f51dd924"
      },
      "source": [
        "gcv.cv_results_"
      ],
      "execution_count": 213,
      "outputs": [
        {
          "output_type": "execute_result",
          "data": {
            "text/plain": [
              "{'mean_fit_time': array([ 1.14875607,  1.15136428,  1.2099987 ,  1.69100227,  6.14979339,\n",
              "        60.54794421]),\n",
              " 'mean_score_time': array([0.18219552, 0.18207393, 0.18198495, 0.18158455, 0.19055781,\n",
              "        0.20080538]),\n",
              " 'mean_test_score': array([-0.03551526, -0.03549103, -0.03550646, -0.03565908, -0.03629133,\n",
              "        -0.03743139]),\n",
              " 'param_C': masked_array(data=[0.001, 0.01, 0.1, 1, 10, 100],\n",
              "              mask=[False, False, False, False, False, False],\n",
              "        fill_value='?',\n",
              "             dtype=object),\n",
              " 'params': [{'C': 0.001},\n",
              "  {'C': 0.01},\n",
              "  {'C': 0.1},\n",
              "  {'C': 1},\n",
              "  {'C': 10},\n",
              "  {'C': 100}],\n",
              " 'rank_test_score': array([3, 1, 2, 4, 5, 6], dtype=int32),\n",
              " 'split0_test_score': array([-0.03345149, -0.03339145, -0.03335164, -0.03344991, -0.03412181,\n",
              "        -0.03544167]),\n",
              " 'split1_test_score': array([-0.03274624, -0.03275785, -0.03278067, -0.0328902 , -0.0333251 ,\n",
              "        -0.03446822]),\n",
              " 'split2_test_score': array([-0.03638037, -0.03639567, -0.03640033, -0.03649223, -0.03717   ,\n",
              "        -0.0379928 ]),\n",
              " 'split3_test_score': array([-0.03397095, -0.03396262, -0.0340336 , -0.03427996, -0.03508949,\n",
              "        -0.03628617]),\n",
              " 'split4_test_score': array([-0.04102726, -0.04094757, -0.04096608, -0.04118312, -0.04175027,\n",
              "        -0.0429681 ]),\n",
              " 'std_fit_time': array([0.01848854, 0.00704002, 0.01920489, 0.02136357, 0.15639374,\n",
              "        4.00339785]),\n",
              " 'std_score_time': array([0.00200429, 0.00350869, 0.00331332, 0.00372972, 0.00836861,\n",
              "        0.00818852]),\n",
              " 'std_test_score': array([0.0030147 , 0.00299355, 0.00299496, 0.00302186, 0.00301734,\n",
              "        0.00300071])}"
            ]
          },
          "metadata": {
            "tags": []
          },
          "execution_count": 213
        }
      ]
    },
    {
      "cell_type": "code",
      "metadata": {
        "id": "IsBdscDPqKcQ",
        "colab_type": "code",
        "colab": {}
      },
      "source": [
        "svr=SVR(C=0.01)"
      ],
      "execution_count": 214,
      "outputs": []
    },
    {
      "cell_type": "code",
      "metadata": {
        "id": "VoeWkWlgqgBY",
        "colab_type": "code",
        "colab": {
          "base_uri": "https://localhost:8080/",
          "height": 50
        },
        "outputId": "ec7a69db-8334-4552-aa2e-a6a1701b38f8"
      },
      "source": [
        "svr.fit(train_vectorised,ytrain)"
      ],
      "execution_count": 215,
      "outputs": [
        {
          "output_type": "execute_result",
          "data": {
            "text/plain": [
              "SVR(C=0.01, cache_size=200, coef0=0.0, degree=3, epsilon=0.1, gamma='scale',\n",
              "    kernel='rbf', max_iter=-1, shrinking=True, tol=0.001, verbose=False)"
            ]
          },
          "metadata": {
            "tags": []
          },
          "execution_count": 215
        }
      ]
    },
    {
      "cell_type": "code",
      "metadata": {
        "id": "VRG6M-J0qlMT",
        "colab_type": "code",
        "colab": {}
      },
      "source": [
        "test_predict=svr.predict(test_vectorised)\n",
        "train_predict=svr.predict(train_vectorised)"
      ],
      "execution_count": 216,
      "outputs": []
    },
    {
      "cell_type": "code",
      "metadata": {
        "id": "Uepa6v2TquQW",
        "colab_type": "code",
        "colab": {
          "base_uri": "https://localhost:8080/",
          "height": 33
        },
        "outputId": "1dbaa250-948e-4039-f3a1-9b9b8744a584"
      },
      "source": [
        "mse=mean_squared_error(ytrain,svr.predict(train_vectorised))\n",
        "mse"
      ],
      "execution_count": 217,
      "outputs": [
        {
          "output_type": "execute_result",
          "data": {
            "text/plain": [
              "0.035340497615665725"
            ]
          },
          "metadata": {
            "tags": []
          },
          "execution_count": 217
        }
      ]
    },
    {
      "cell_type": "code",
      "metadata": {
        "id": "MOZ6GfBYq95X",
        "colab_type": "code",
        "colab": {}
      },
      "source": [
        "final_data=pd.DataFrame(np.hstack((np.array(xtest_filled[\"Employee_ID\"]).reshape(3000,1),test_predict.reshape(3000,1))),columns=[\"Employee_ID\",\"Attrition_rate\"])\n",
        "final_data.to_csv(\"finial_data.csv\",index=False)"
      ],
      "execution_count": 218,
      "outputs": []
    },
    {
      "cell_type": "code",
      "metadata": {
        "id": "CWJtXLw2rLwp",
        "colab_type": "code",
        "colab": {
          "base_uri": "https://localhost:8080/",
          "height": 296
        },
        "outputId": "b863bb3e-d7fa-463e-8927-af835646435e"
      },
      "source": [
        "sns.scatterplot(ytrain,ytrain-train_predict)"
      ],
      "execution_count": 219,
      "outputs": [
        {
          "output_type": "execute_result",
          "data": {
            "text/plain": [
              "<matplotlib.axes._subplots.AxesSubplot at 0x7f8d56a25358>"
            ]
          },
          "metadata": {
            "tags": []
          },
          "execution_count": 219
        },
        {
          "output_type": "display_data",
          "data": {
            "image/png": "[encoded data removed]",
            "text/plain": [
              "<Figure size 432x288 with 1 Axes>"
            ]
          },
          "metadata": {
            "tags": [],
            "needs_background": "light"
          }
        }
      ]
    },
    {
      "cell_type": "code",
      "metadata": {
        "id": "SkdGKletsS6O",
        "colab_type": "code",
        "colab": {
          "base_uri": "https://localhost:8080/",
          "height": 296
        },
        "outputId": "34a1b382-d245-45b5-ff22-a989efe02a2c"
      },
      "source": [
        "sns.distplot(ytrain-train_predict)"
      ],
      "execution_count": 220,
      "outputs": [
        {
          "output_type": "execute_result",
          "data": {
            "text/plain": [
              "<matplotlib.axes._subplots.AxesSubplot at 0x7f8d56979b38>"
            ]
          },
          "metadata": {
            "tags": []
          },
          "execution_count": 220
        },
        {
          "output_type": "display_data",
          "data": {
            "image/png": "[encoded data removed]",
            "text/plain": [
              "<Figure size 432x288 with 1 Axes>"
            ]
          },
          "metadata": {
            "tags": [],
            "needs_background": "light"
          }
        }
      ]
    },
    {
      "cell_type": "code",
      "metadata": {
        "id": "b-v2Llf6sc1j",
        "colab_type": "code",
        "colab": {}
      },
      "source": [
        "from sklearn.ensemble import RandomForestRegressor\n"
      ],
      "execution_count": 221,
      "outputs": []
    },
    {
      "cell_type": "code",
      "metadata": {
        "id": "EJ1DiJvMuvKG",
        "colab_type": "code",
        "colab": {
          "base_uri": "https://localhost:8080/",
          "height": 326
        },
        "outputId": "b882f643-1c9c-49d8-e22e-14e8d35a9360"
      },
      "source": [
        "rfr=RandomForestRegressor(max_samples=0.7,oob_score=True)\n",
        "parameters={\"max_depth\":[5,10,25,50,100],\"min_samples_split\":[2,10,50,100,250,500]}\n",
        "gcv=GridSearchCV(estimator=rfr,param_grid=parameters)\n",
        "gcv.fit(train_vectorised,ytrain)"
      ],
      "execution_count": 222,
      "outputs": [
        {
          "output_type": "execute_result",
          "data": {
            "text/plain": [
              "GridSearchCV(cv=None, error_score=nan,\n",
              "             estimator=RandomForestRegressor(bootstrap=True, ccp_alpha=0.0,\n",
              "                                             criterion='mse', max_depth=None,\n",
              "                                             max_features='auto',\n",
              "                                             max_leaf_nodes=None,\n",
              "                                             max_samples=0.7,\n",
              "                                             min_impurity_decrease=0.0,\n",
              "                                             min_impurity_split=None,\n",
              "                                             min_samples_leaf=1,\n",
              "                                             min_samples_split=2,\n",
              "                                             min_weight_fraction_leaf=0.0,\n",
              "                                             n_estimators=100, n_jobs=None,\n",
              "                                             oob_score=True, random_state=None,\n",
              "                                             verbose=0, warm_start=False),\n",
              "             iid='deprecated', n_jobs=None,\n",
              "             param_grid={'max_depth': [5, 10, 25, 50, 100],\n",
              "                         'min_samples_split': [2, 10, 50, 100, 250, 500]},\n",
              "             pre_dispatch='2*n_jobs', refit=True, return_train_score=False,\n",
              "             scoring=None, verbose=0)"
            ]
          },
          "metadata": {
            "tags": []
          },
          "execution_count": 222
        }
      ]
    },
    {
      "cell_type": "code",
      "metadata": {
        "id": "5ofuyB6syIjb",
        "colab_type": "code",
        "colab": {
          "base_uri": "https://localhost:8080/",
          "height": 1000
        },
        "outputId": "876b4104-7f47-4ee6-bb2c-aedeca0864c9"
      },
      "source": [
        "gcv.cv_results_"
      ],
      "execution_count": 223,
      "outputs": [
        {
          "output_type": "execute_result",
          "data": {
            "text/plain": [
              "{'mean_fit_time': array([1.03272076, 1.02740307, 1.00821533, 1.00137925, 0.94902883,\n",
              "        0.88798151, 2.01288276, 1.9052659 , 1.72298441, 1.57703781,\n",
              "        1.35410199, 1.08882709, 4.15612016, 3.04535146, 2.15305605,\n",
              "        1.81215434, 1.40424347, 1.1093914 , 4.21437817, 3.05344448,\n",
              "        2.15377121, 1.81582294, 1.41831088, 1.10534596, 4.23368325,\n",
              "        3.03689828, 2.14502625, 1.80327721, 1.40242577, 1.09421825]),\n",
              " 'mean_score_time': array([0.011586  , 0.01162105, 0.01170521, 0.01158638, 0.01124768,\n",
              "        0.01094875, 0.01878257, 0.01843643, 0.01632009, 0.01584358,\n",
              "        0.01403718, 0.0124579 , 0.04333649, 0.02737808, 0.01972022,\n",
              "        0.01697416, 0.01419439, 0.01244626, 0.04426708, 0.02760105,\n",
              "        0.01970186, 0.01705198, 0.01442084, 0.01241136, 0.04398823,\n",
              "        0.02773466, 0.01991558, 0.01721506, 0.01439056, 0.01259398]),\n",
              " 'mean_test_score': array([-0.003871  , -0.00553229, -0.00378602, -0.00405674, -0.00402095,\n",
              "        -0.0025087 , -0.02155109, -0.01526317, -0.01175867, -0.00689465,\n",
              "        -0.00492899, -0.00338277, -0.03398759, -0.03515595, -0.01717693,\n",
              "        -0.00897344, -0.00585735, -0.00359925, -0.04465769, -0.03815364,\n",
              "        -0.01358574, -0.00991194, -0.00496804, -0.00304086, -0.04557908,\n",
              "        -0.03421121, -0.01479019, -0.00810651, -0.00544524, -0.00400127]),\n",
              " 'param_max_depth': masked_array(data=[5, 5, 5, 5, 5, 5, 10, 10, 10, 10, 10, 10, 25, 25, 25,\n",
              "                    25, 25, 25, 50, 50, 50, 50, 50, 50, 100, 100, 100, 100,\n",
              "                    100, 100],\n",
              "              mask=[False, False, False, False, False, False, False, False,\n",
              "                    False, False, False, False, False, False, False, False,\n",
              "                    False, False, False, False, False, False, False, False,\n",
              "                    False, False, False, False, False, False],\n",
              "        fill_value='?',\n",
              "             dtype=object),\n",
              " 'param_min_samples_split': masked_array(data=[2, 10, 50, 100, 250, 500, 2, 10, 50, 100, 250, 500, 2,\n",
              "                    10, 50, 100, 250, 500, 2, 10, 50, 100, 250, 500, 2, 10,\n",
              "                    50, 100, 250, 500],\n",
              "              mask=[False, False, False, False, False, False, False, False,\n",
              "                    False, False, False, False, False, False, False, False,\n",
              "                    False, False, False, False, False, False, False, False,\n",
              "                    False, False, False, False, False, False],\n",
              "        fill_value='?',\n",
              "             dtype=object),\n",
              " 'params': [{'max_depth': 5, 'min_samples_split': 2},\n",
              "  {'max_depth': 5, 'min_samples_split': 10},\n",
              "  {'max_depth': 5, 'min_samples_split': 50},\n",
              "  {'max_depth': 5, 'min_samples_split': 100},\n",
              "  {'max_depth': 5, 'min_samples_split': 250},\n",
              "  {'max_depth': 5, 'min_samples_split': 500},\n",
              "  {'max_depth': 10, 'min_samples_split': 2},\n",
              "  {'max_depth': 10, 'min_samples_split': 10},\n",
              "  {'max_depth': 10, 'min_samples_split': 50},\n",
              "  {'max_depth': 10, 'min_samples_split': 100},\n",
              "  {'max_depth': 10, 'min_samples_split': 250},\n",
              "  {'max_depth': 10, 'min_samples_split': 500},\n",
              "  {'max_depth': 25, 'min_samples_split': 2},\n",
              "  {'max_depth': 25, 'min_samples_split': 10},\n",
              "  {'max_depth': 25, 'min_samples_split': 50},\n",
              "  {'max_depth': 25, 'min_samples_split': 100},\n",
              "  {'max_depth': 25, 'min_samples_split': 250},\n",
              "  {'max_depth': 25, 'min_samples_split': 500},\n",
              "  {'max_depth': 50, 'min_samples_split': 2},\n",
              "  {'max_depth': 50, 'min_samples_split': 10},\n",
              "  {'max_depth': 50, 'min_samples_split': 50},\n",
              "  {'max_depth': 50, 'min_samples_split': 100},\n",
              "  {'max_depth': 50, 'min_samples_split': 250},\n",
              "  {'max_depth': 50, 'min_samples_split': 500},\n",
              "  {'max_depth': 100, 'min_samples_split': 2},\n",
              "  {'max_depth': 100, 'min_samples_split': 10},\n",
              "  {'max_depth': 100, 'min_samples_split': 50},\n",
              "  {'max_depth': 100, 'min_samples_split': 100},\n",
              "  {'max_depth': 100, 'min_samples_split': 250},\n",
              "  {'max_depth': 100, 'min_samples_split': 500}],\n",
              " 'rank_test_score': array([ 6, 13,  5,  9,  8,  1, 24, 22, 19, 15, 10,  3, 25, 27, 23, 17, 14,\n",
              "         4, 29, 28, 20, 18, 11,  2, 30, 26, 21, 16, 12,  7], dtype=int32),\n",
              " 'split0_test_score': array([-0.00118006, -0.00056434, -0.00212365, -0.0022625 , -0.00299445,\n",
              "        -0.00115446, -0.01655245, -0.01103518, -0.00714471, -0.00507612,\n",
              "        -0.00143659, -0.00060466, -0.03117093, -0.03356266, -0.01675027,\n",
              "        -0.01000957, -0.00415996, -0.00134104, -0.04110127, -0.02964086,\n",
              "        -0.00899686, -0.00672299, -0.00332778, -0.00101872, -0.04366554,\n",
              "        -0.03756437, -0.01019821, -0.00877121, -0.00412469, -0.00221546]),\n",
              " 'split1_test_score': array([-0.00793175, -0.01034785, -0.00983606, -0.00873794, -0.00827809,\n",
              "        -0.00613292, -0.03573067, -0.02484931, -0.01997437, -0.01550804,\n",
              "        -0.01149295, -0.00833275, -0.05099907, -0.04897214, -0.02346567,\n",
              "        -0.01571685, -0.0111287 , -0.00666919, -0.06427749, -0.05648896,\n",
              "        -0.02657286, -0.01782495, -0.00921682, -0.00726031, -0.06244554,\n",
              "        -0.0440351 , -0.02755516, -0.0201038 , -0.00946532, -0.00908452]),\n",
              " 'split2_test_score': array([ 9.55685145e-04, -5.10362294e-04,  1.11213532e-03,  4.81640305e-04,\n",
              "         7.29217299e-04,  1.44731726e-03, -7.02917170e-03, -4.37678000e-03,\n",
              "        -3.40148380e-04,  3.24863468e-03,  8.44389603e-04,  3.24676790e-04,\n",
              "        -2.79421207e-03, -1.14484073e-02,  2.36555262e-05,  3.36920850e-03,\n",
              "        -9.10677926e-04, -4.91291110e-04, -2.11889183e-02, -1.20152335e-02,\n",
              "         2.35520973e-03, -4.06019648e-04,  1.93829520e-03,  1.09399080e-03,\n",
              "        -1.73417825e-02, -7.82606565e-03,  1.15594767e-03,  4.49739107e-03,\n",
              "         2.31240850e-03,  1.07500763e-03]),\n",
              " 'split3_test_score': array([-0.00688039, -0.00991632, -0.00549187, -0.0057649 , -0.00548771,\n",
              "        -0.00312653, -0.03061996, -0.02234414, -0.01979442, -0.00967679,\n",
              "        -0.00585248, -0.00538659, -0.05537533, -0.05482733, -0.02834131,\n",
              "        -0.01363637, -0.00740642, -0.00474237, -0.05257567, -0.05399835,\n",
              "        -0.02310147, -0.01759035, -0.00585212, -0.00490357, -0.067043  ,\n",
              "        -0.05961529, -0.02371286, -0.01041601, -0.00736509, -0.00570684]),\n",
              " 'split4_test_score': array([-0.0043185 , -0.00632255, -0.00259068, -0.00400001, -0.00407369,\n",
              "        -0.0035769 , -0.0178232 , -0.01371043, -0.01153973, -0.00746095,\n",
              "        -0.00670731, -0.00291452, -0.02959841, -0.0269692 , -0.01735107,\n",
              "        -0.0088736 , -0.00568098, -0.00475236, -0.04414508, -0.03862479,\n",
              "        -0.01161274, -0.00701539, -0.00838179, -0.00311571, -0.03739956,\n",
              "        -0.02201521, -0.01364065, -0.00573893, -0.00858352, -0.00407456]),\n",
              " 'std_fit_time': array([0.00338721, 0.00776921, 0.00329503, 0.00289576, 0.00427906,\n",
              "        0.0068691 , 0.00736285, 0.00554976, 0.00254221, 0.00889781,\n",
              "        0.02508272, 0.02692599, 0.01365683, 0.01871394, 0.03008899,\n",
              "        0.02138537, 0.02935171, 0.03336667, 0.03102946, 0.02562559,\n",
              "        0.01297095, 0.02675579, 0.03718468, 0.02080456, 0.03003187,\n",
              "        0.02848114, 0.03486488, 0.01096269, 0.03459321, 0.02289765]),\n",
              " 'std_score_time': array([9.45785077e-05, 1.65645803e-04, 3.34150810e-04, 1.21854185e-04,\n",
              "        1.40197861e-04, 1.53862768e-04, 1.80371835e-04, 1.42073878e-03,\n",
              "        3.26496973e-04, 8.89747784e-04, 3.03542468e-04, 2.29249768e-04,\n",
              "        4.40978906e-04, 4.11956839e-04, 2.49431079e-04, 3.25667561e-05,\n",
              "        8.37316546e-05, 1.91208882e-04, 1.36870168e-03, 9.00312845e-04,\n",
              "        1.39802410e-04, 1.14478800e-04, 2.36597718e-04, 1.26705243e-04,\n",
              "        6.62586362e-04, 7.85103665e-04, 7.98025784e-04, 1.90711282e-04,\n",
              "        1.46892208e-04, 2.50997270e-04]),\n",
              " 'std_test_score': array([0.00335513, 0.00431124, 0.0036796 , 0.00311932, 0.00296294,\n",
              "        0.00253542, 0.01032545, 0.00749446, 0.00753379, 0.00613913,\n",
              "        0.00430418, 0.00316859, 0.01869252, 0.01555287, 0.00959442,\n",
              "        0.00664291, 0.00339319, 0.00231602, 0.01422199, 0.0163899 ,\n",
              "        0.01037573, 0.00678963, 0.00402182, 0.00291428, 0.01796156,\n",
              "        0.01787757, 0.01019064, 0.00792685, 0.00428067, 0.00339739])}"
            ]
          },
          "metadata": {
            "tags": []
          },
          "execution_count": 223
        }
      ]
    },
    {
      "cell_type": "code",
      "metadata": {
        "id": "ASvKH9vdNknH",
        "colab_type": "code",
        "colab": {}
      },
      "source": [
        ""
      ],
      "execution_count": null,
      "outputs": []
    },
    {
      "cell_type": "code",
      "metadata": {
        "id": "NGfXX6gYuyjs",
        "colab_type": "code",
        "colab": {
          "base_uri": "https://localhost:8080/",
          "height": 131
        },
        "outputId": "9e267eeb-710c-4d10-d96f-949a278b1408"
      },
      "source": [
        "rfr=RandomForestRegressor(max_samples=0.7,oob_score=True,min_samples_split=500,max_depth=5)\n",
        "rfr.fit(train_vectorised,ytrain)\n"
      ],
      "execution_count": 224,
      "outputs": [
        {
          "output_type": "execute_result",
          "data": {
            "text/plain": [
              "RandomForestRegressor(bootstrap=True, ccp_alpha=0.0, criterion='mse',\n",
              "                      max_depth=5, max_features='auto', max_leaf_nodes=None,\n",
              "                      max_samples=0.7, min_impurity_decrease=0.0,\n",
              "                      min_impurity_split=None, min_samples_leaf=1,\n",
              "                      min_samples_split=500, min_weight_fraction_leaf=0.0,\n",
              "                      n_estimators=100, n_jobs=None, oob_score=True,\n",
              "                      random_state=None, verbose=0, warm_start=False)"
            ]
          },
          "metadata": {
            "tags": []
          },
          "execution_count": 224
        }
      ]
    },
    {
      "cell_type": "code",
      "metadata": {
        "id": "gl5IwdPoyHmL",
        "colab_type": "code",
        "colab": {}
      },
      "source": [
        ""
      ],
      "execution_count": 224,
      "outputs": []
    },
    {
      "cell_type": "code",
      "metadata": {
        "id": "Vnl9rki6u4Hc",
        "colab_type": "code",
        "colab": {
          "base_uri": "https://localhost:8080/",
          "height": 33
        },
        "outputId": "7d08c930-5c76-472f-f215-70d10e0d75cb"
      },
      "source": [
        "rfr_predict=rfr.predict(train_vectorised)\n",
        "test_predict=rfr.predict(test_vectorised)\n",
        "rfr_score=mean_squared_error(ytrain,rfr_predict)\n",
        "print(rfr_score)"
      ],
      "execution_count": 225,
      "outputs": [
        {
          "output_type": "stream",
          "text": [
            "0.03396682558954805\n"
          ],
          "name": "stdout"
        }
      ]
    },
    {
      "cell_type": "code",
      "metadata": {
        "id": "voFF1tbkvrP_",
        "colab_type": "code",
        "colab": {}
      },
      "source": [
        "final_data=pd.DataFrame(np.hstack((np.array(xtest_filled[\"Employee_ID\"]).reshape(3000,1),test_predict.reshape(3000,1))),columns=[\"Employee_ID\",\"Attrition_rate\"])\n",
        "final_data.to_csv(\"finial_data.csv\",index=False)"
      ],
      "execution_count": 227,
      "outputs": []
    },
    {
      "cell_type": "code",
      "metadata": {
        "id": "hAmpaJ3fNltD",
        "colab_type": "code",
        "colab": {}
      },
      "source": [
        ""
      ],
      "execution_count": 227,
      "outputs": []
    },
    {
      "cell_type": "code",
      "metadata": {
        "id": "gur-h1lgo9wb",
        "colab_type": "code",
        "colab": {}
      },
      "source": [
        ""
      ],
      "execution_count": 228,
      "outputs": []
    },
    {
      "cell_type": "code",
      "metadata": {
        "id": "brcs44NVfFlm",
        "colab_type": "code",
        "colab": {}
      },
      "source": [
        "import xgboost"
      ],
      "execution_count": 229,
      "outputs": []
    },
    {
      "cell_type": "code",
      "metadata": {
        "id": "NmYlzw8UfH9x",
        "colab_type": "code",
        "colab": {}
      },
      "source": [
        "xgb=xgboost.XGBRegressor(booster=\"gblinear\",subsample=0.7,colsample_bytree=0.7,missing=0.00)"
      ],
      "execution_count": 230,
      "outputs": []
    },
    {
      "cell_type": "code",
      "metadata": {
        "id": "6z8cYvOkgI9X",
        "colab_type": "code",
        "colab": {
          "base_uri": "https://localhost:8080/",
          "height": 326
        },
        "outputId": "f9e35169-542e-417a-a919-3093862e0f3e"
      },
      "source": [
        "parameters={\"gamma\":[0.1,1,10],\"learning_rate\":[0.18,0.2,0.25,0.3],\"n_estimators\":[85,90,95,100,105]}\n",
        "gcv=GridSearchCV(estimator=xgb,param_grid=parameters,scoring=\"neg_mean_squared_error\",n_jobs=-1)\n",
        "gcv.fit(train_vectorised,ytrain)"
      ],
      "execution_count": 231,
      "outputs": [
        {
          "output_type": "stream",
          "text": [
            "[12:44:27] WARNING: /workspace/src/objective/regression_obj.cu:152: reg:linear is now deprecated in favor of reg:squarederror.\n"
          ],
          "name": "stdout"
        },
        {
          "output_type": "execute_result",
          "data": {
            "text/plain": [
              "GridSearchCV(cv=None, error_score=nan,\n",
              "             estimator=XGBRegressor(base_score=0.5, booster='gblinear',\n",
              "                                    colsample_bylevel=1, colsample_bynode=1,\n",
              "                                    colsample_bytree=0.7, gamma=0,\n",
              "                                    importance_type='gain', learning_rate=0.1,\n",
              "                                    max_delta_step=0, max_depth=3,\n",
              "                                    min_child_weight=1, missing=0.0,\n",
              "                                    n_estimators=100, n_jobs=1, nthread=None,\n",
              "                                    objective='reg:linear', random_state=0,\n",
              "                                    reg_alpha=0, reg_lambda=1,\n",
              "                                    scale_pos_weight=1, seed=None, silent=None,\n",
              "                                    subsample=0.7, verbosity=1),\n",
              "             iid='deprecated', n_jobs=-1,\n",
              "             param_grid={'gamma': [0.1, 1, 10],\n",
              "                         'learning_rate': [0.18, 0.2, 0.25, 0.3],\n",
              "                         'n_estimators': [85, 90, 95, 100, 105]},\n",
              "             pre_dispatch='2*n_jobs', refit=True, return_train_score=False,\n",
              "             scoring='neg_mean_squared_error', verbose=0)"
            ]
          },
          "metadata": {
            "tags": []
          },
          "execution_count": 231
        }
      ]
    },
    {
      "cell_type": "code",
      "metadata": {
        "id": "oTw9O3omg6B1",
        "colab_type": "code",
        "colab": {
          "base_uri": "https://localhost:8080/",
          "height": 1000
        },
        "outputId": "cc70344c-1347-43a1-8912-956628983a9e"
      },
      "source": [
        "gcv.cv_results_"
      ],
      "execution_count": 232,
      "outputs": [
        {
          "output_type": "execute_result",
          "data": {
            "text/plain": [
              "{'mean_fit_time': array([0.28913226, 0.29753647, 0.31332035, 0.32330441, 0.34308305,\n",
              "        0.28510399, 0.30147223, 0.30930166, 0.32116342, 0.34781642,\n",
              "        0.28290977, 0.29450388, 0.31172585, 0.3235456 , 0.33946757,\n",
              "        0.27618833, 0.29393139, 0.3109364 , 0.32270164, 0.33968573,\n",
              "        0.27929583, 0.29304852, 0.31773319, 0.32855029, 0.34204221,\n",
              "        0.284796  , 0.2988368 , 0.30495729, 0.3286562 , 0.34362359,\n",
              "        0.27805219, 0.29564734, 0.31360254, 0.32625332, 0.34181132,\n",
              "        0.28791285, 0.29331946, 0.31443334, 0.32670817, 0.34156733,\n",
              "        0.2806756 , 0.29233866, 0.30739117, 0.32606683, 0.3403368 ,\n",
              "        0.28085103, 0.29714079, 0.30960717, 0.32633891, 0.34802713,\n",
              "        0.28021216, 0.29643097, 0.30925565, 0.32037358, 0.33532524,\n",
              "        0.27290139, 0.29187546, 0.30450182, 0.32526612, 0.33413978]),\n",
              " 'mean_score_time': array([0.00477691, 0.00464649, 0.00474329, 0.00467486, 0.00491209,\n",
              "        0.004914  , 0.00473104, 0.00462785, 0.00468726, 0.00464158,\n",
              "        0.00461626, 0.00467443, 0.00456481, 0.00464258, 0.00469894,\n",
              "        0.00454302, 0.00462756, 0.0048995 , 0.00475335, 0.00477848,\n",
              "        0.00470338, 0.0046309 , 0.00464654, 0.00486612, 0.00466204,\n",
              "        0.0046937 , 0.00461302, 0.00460505, 0.00485582, 0.00483041,\n",
              "        0.00486217, 0.00458174, 0.00501528, 0.00453725, 0.00467215,\n",
              "        0.004633  , 0.00473051, 0.0047864 , 0.00468497, 0.00467381,\n",
              "        0.00466857, 0.00453944, 0.00470467, 0.00472703, 0.0047451 ,\n",
              "        0.00469575, 0.0045629 , 0.00485759, 0.00461063, 0.0048842 ,\n",
              "        0.00477576, 0.00476727, 0.00521927, 0.00463424, 0.00456576,\n",
              "        0.00456781, 0.00459633, 0.00460877, 0.00468121, 0.00428104]),\n",
              " 'mean_test_score': array([-0.03474749, -0.03473892, -0.0347307 , -0.03472282, -0.03471525,\n",
              "        -0.03472317, -0.03471464, -0.03470649, -0.03469867, -0.03469117,\n",
              "        -0.03467091, -0.03466266, -0.03465479, -0.03464729, -0.03464014,\n",
              "        -0.03462828, -0.03462051, -0.03461317, -0.03460623, -0.03459966,\n",
              "        -0.03474749, -0.03473892, -0.0347307 , -0.03472282, -0.03471525,\n",
              "        -0.03472317, -0.03471464, -0.03470649, -0.03469867, -0.03469117,\n",
              "        -0.03467091, -0.03466266, -0.03465479, -0.03464729, -0.03464014,\n",
              "        -0.03462828, -0.03462051, -0.03461317, -0.03460623, -0.03459966,\n",
              "        -0.03474749, -0.03473892, -0.0347307 , -0.03472282, -0.03471525,\n",
              "        -0.03472317, -0.03471464, -0.03470649, -0.03469867, -0.03469117,\n",
              "        -0.03467091, -0.03466266, -0.03465479, -0.03464729, -0.03464014,\n",
              "        -0.03462828, -0.03462051, -0.03461317, -0.03460623, -0.03459966]),\n",
              " 'param_gamma': masked_array(data=[0.1, 0.1, 0.1, 0.1, 0.1, 0.1, 0.1, 0.1, 0.1, 0.1, 0.1,\n",
              "                    0.1, 0.1, 0.1, 0.1, 0.1, 0.1, 0.1, 0.1, 0.1, 1, 1, 1,\n",
              "                    1, 1, 1, 1, 1, 1, 1, 1, 1, 1, 1, 1, 1, 1, 1, 1, 1, 10,\n",
              "                    10, 10, 10, 10, 10, 10, 10, 10, 10, 10, 10, 10, 10, 10,\n",
              "                    10, 10, 10, 10, 10],\n",
              "              mask=[False, False, False, False, False, False, False, False,\n",
              "                    False, False, False, False, False, False, False, False,\n",
              "                    False, False, False, False, False, False, False, False,\n",
              "                    False, False, False, False, False, False, False, False,\n",
              "                    False, False, False, False, False, False, False, False,\n",
              "                    False, False, False, False, False, False, False, False,\n",
              "                    False, False, False, False, False, False, False, False,\n",
              "                    False, False, False, False],\n",
              "        fill_value='?',\n",
              "             dtype=object),\n",
              " 'param_learning_rate': masked_array(data=[0.18, 0.18, 0.18, 0.18, 0.18, 0.2, 0.2, 0.2, 0.2, 0.2,\n",
              "                    0.25, 0.25, 0.25, 0.25, 0.25, 0.3, 0.3, 0.3, 0.3, 0.3,\n",
              "                    0.18, 0.18, 0.18, 0.18, 0.18, 0.2, 0.2, 0.2, 0.2, 0.2,\n",
              "                    0.25, 0.25, 0.25, 0.25, 0.25, 0.3, 0.3, 0.3, 0.3, 0.3,\n",
              "                    0.18, 0.18, 0.18, 0.18, 0.18, 0.2, 0.2, 0.2, 0.2, 0.2,\n",
              "                    0.25, 0.25, 0.25, 0.25, 0.25, 0.3, 0.3, 0.3, 0.3, 0.3],\n",
              "              mask=[False, False, False, False, False, False, False, False,\n",
              "                    False, False, False, False, False, False, False, False,\n",
              "                    False, False, False, False, False, False, False, False,\n",
              "                    False, False, False, False, False, False, False, False,\n",
              "                    False, False, False, False, False, False, False, False,\n",
              "                    False, False, False, False, False, False, False, False,\n",
              "                    False, False, False, False, False, False, False, False,\n",
              "                    False, False, False, False],\n",
              "        fill_value='?',\n",
              "             dtype=object),\n",
              " 'param_n_estimators': masked_array(data=[85, 90, 95, 100, 105, 85, 90, 95, 100, 105, 85, 90, 95,\n",
              "                    100, 105, 85, 90, 95, 100, 105, 85, 90, 95, 100, 105,\n",
              "                    85, 90, 95, 100, 105, 85, 90, 95, 100, 105, 85, 90, 95,\n",
              "                    100, 105, 85, 90, 95, 100, 105, 85, 90, 95, 100, 105,\n",
              "                    85, 90, 95, 100, 105, 85, 90, 95, 100, 105],\n",
              "              mask=[False, False, False, False, False, False, False, False,\n",
              "                    False, False, False, False, False, False, False, False,\n",
              "                    False, False, False, False, False, False, False, False,\n",
              "                    False, False, False, False, False, False, False, False,\n",
              "                    False, False, False, False, False, False, False, False,\n",
              "                    False, False, False, False, False, False, False, False,\n",
              "                    False, False, False, False, False, False, False, False,\n",
              "                    False, False, False, False],\n",
              "        fill_value='?',\n",
              "             dtype=object),\n",
              " 'params': [{'gamma': 0.1, 'learning_rate': 0.18, 'n_estimators': 85},\n",
              "  {'gamma': 0.1, 'learning_rate': 0.18, 'n_estimators': 90},\n",
              "  {'gamma': 0.1, 'learning_rate': 0.18, 'n_estimators': 95},\n",
              "  {'gamma': 0.1, 'learning_rate': 0.18, 'n_estimators': 100},\n",
              "  {'gamma': 0.1, 'learning_rate': 0.18, 'n_estimators': 105},\n",
              "  {'gamma': 0.1, 'learning_rate': 0.2, 'n_estimators': 85},\n",
              "  {'gamma': 0.1, 'learning_rate': 0.2, 'n_estimators': 90},\n",
              "  {'gamma': 0.1, 'learning_rate': 0.2, 'n_estimators': 95},\n",
              "  {'gamma': 0.1, 'learning_rate': 0.2, 'n_estimators': 100},\n",
              "  {'gamma': 0.1, 'learning_rate': 0.2, 'n_estimators': 105},\n",
              "  {'gamma': 0.1, 'learning_rate': 0.25, 'n_estimators': 85},\n",
              "  {'gamma': 0.1, 'learning_rate': 0.25, 'n_estimators': 90},\n",
              "  {'gamma': 0.1, 'learning_rate': 0.25, 'n_estimators': 95},\n",
              "  {'gamma': 0.1, 'learning_rate': 0.25, 'n_estimators': 100},\n",
              "  {'gamma': 0.1, 'learning_rate': 0.25, 'n_estimators': 105},\n",
              "  {'gamma': 0.1, 'learning_rate': 0.3, 'n_estimators': 85},\n",
              "  {'gamma': 0.1, 'learning_rate': 0.3, 'n_estimators': 90},\n",
              "  {'gamma': 0.1, 'learning_rate': 0.3, 'n_estimators': 95},\n",
              "  {'gamma': 0.1, 'learning_rate': 0.3, 'n_estimators': 100},\n",
              "  {'gamma': 0.1, 'learning_rate': 0.3, 'n_estimators': 105},\n",
              "  {'gamma': 1, 'learning_rate': 0.18, 'n_estimators': 85},\n",
              "  {'gamma': 1, 'learning_rate': 0.18, 'n_estimators': 90},\n",
              "  {'gamma': 1, 'learning_rate': 0.18, 'n_estimators': 95},\n",
              "  {'gamma': 1, 'learning_rate': 0.18, 'n_estimators': 100},\n",
              "  {'gamma': 1, 'learning_rate': 0.18, 'n_estimators': 105},\n",
              "  {'gamma': 1, 'learning_rate': 0.2, 'n_estimators': 85},\n",
              "  {'gamma': 1, 'learning_rate': 0.2, 'n_estimators': 90},\n",
              "  {'gamma': 1, 'learning_rate': 0.2, 'n_estimators': 95},\n",
              "  {'gamma': 1, 'learning_rate': 0.2, 'n_estimators': 100},\n",
              "  {'gamma': 1, 'learning_rate': 0.2, 'n_estimators': 105},\n",
              "  {'gamma': 1, 'learning_rate': 0.25, 'n_estimators': 85},\n",
              "  {'gamma': 1, 'learning_rate': 0.25, 'n_estimators': 90},\n",
              "  {'gamma': 1, 'learning_rate': 0.25, 'n_estimators': 95},\n",
              "  {'gamma': 1, 'learning_rate': 0.25, 'n_estimators': 100},\n",
              "  {'gamma': 1, 'learning_rate': 0.25, 'n_estimators': 105},\n",
              "  {'gamma': 1, 'learning_rate': 0.3, 'n_estimators': 85},\n",
              "  {'gamma': 1, 'learning_rate': 0.3, 'n_estimators': 90},\n",
              "  {'gamma': 1, 'learning_rate': 0.3, 'n_estimators': 95},\n",
              "  {'gamma': 1, 'learning_rate': 0.3, 'n_estimators': 100},\n",
              "  {'gamma': 1, 'learning_rate': 0.3, 'n_estimators': 105},\n",
              "  {'gamma': 10, 'learning_rate': 0.18, 'n_estimators': 85},\n",
              "  {'gamma': 10, 'learning_rate': 0.18, 'n_estimators': 90},\n",
              "  {'gamma': 10, 'learning_rate': 0.18, 'n_estimators': 95},\n",
              "  {'gamma': 10, 'learning_rate': 0.18, 'n_estimators': 100},\n",
              "  {'gamma': 10, 'learning_rate': 0.18, 'n_estimators': 105},\n",
              "  {'gamma': 10, 'learning_rate': 0.2, 'n_estimators': 85},\n",
              "  {'gamma': 10, 'learning_rate': 0.2, 'n_estimators': 90},\n",
              "  {'gamma': 10, 'learning_rate': 0.2, 'n_estimators': 95},\n",
              "  {'gamma': 10, 'learning_rate': 0.2, 'n_estimators': 100},\n",
              "  {'gamma': 10, 'learning_rate': 0.2, 'n_estimators': 105},\n",
              "  {'gamma': 10, 'learning_rate': 0.25, 'n_estimators': 85},\n",
              "  {'gamma': 10, 'learning_rate': 0.25, 'n_estimators': 90},\n",
              "  {'gamma': 10, 'learning_rate': 0.25, 'n_estimators': 95},\n",
              "  {'gamma': 10, 'learning_rate': 0.25, 'n_estimators': 100},\n",
              "  {'gamma': 10, 'learning_rate': 0.25, 'n_estimators': 105},\n",
              "  {'gamma': 10, 'learning_rate': 0.3, 'n_estimators': 85},\n",
              "  {'gamma': 10, 'learning_rate': 0.3, 'n_estimators': 90},\n",
              "  {'gamma': 10, 'learning_rate': 0.3, 'n_estimators': 95},\n",
              "  {'gamma': 10, 'learning_rate': 0.3, 'n_estimators': 100},\n",
              "  {'gamma': 10, 'learning_rate': 0.3, 'n_estimators': 105}],\n",
              " 'rank_test_score': array([58, 55, 52, 46, 43, 49, 40, 37, 34, 31, 28, 25, 22, 19, 16, 13, 10,\n",
              "         7,  4,  1, 58, 55, 52, 46, 43, 49, 40, 37, 34, 31, 28, 25, 22, 19,\n",
              "        16, 13, 10,  7,  4,  1, 58, 55, 52, 46, 43, 49, 40, 37, 34, 31, 28,\n",
              "        25, 22, 19, 16, 13, 10,  7,  4,  1], dtype=int32),\n",
              " 'split0_test_score': array([-0.03271706, -0.03270807, -0.03269955, -0.03269147, -0.03268377,\n",
              "        -0.03269234, -0.03268364, -0.03267539, -0.03266757, -0.03266012,\n",
              "        -0.03264124, -0.03263325, -0.0326257 , -0.03261856, -0.0326118 ,\n",
              "        -0.0326015 , -0.03259429, -0.03258752, -0.03258116, -0.03257518,\n",
              "        -0.03271706, -0.03270807, -0.03269955, -0.03269147, -0.03268377,\n",
              "        -0.03269234, -0.03268364, -0.03267539, -0.03266757, -0.03266012,\n",
              "        -0.03264124, -0.03263325, -0.0326257 , -0.03261856, -0.0326118 ,\n",
              "        -0.0326015 , -0.03259429, -0.03258752, -0.03258116, -0.03257518,\n",
              "        -0.03271706, -0.03270807, -0.03269955, -0.03269147, -0.03268377,\n",
              "        -0.03269234, -0.03268364, -0.03267539, -0.03266757, -0.03266012,\n",
              "        -0.03264124, -0.03263325, -0.0326257 , -0.03261856, -0.0326118 ,\n",
              "        -0.0326015 , -0.03259429, -0.03258752, -0.03258116, -0.03257518]),\n",
              " 'split1_test_score': array([-0.03262646, -0.03261638, -0.03260677, -0.03259758, -0.0325888 ,\n",
              "        -0.03259884, -0.03258881, -0.03257927, -0.03257016, -0.03256146,\n",
              "        -0.03253901, -0.03252932, -0.03252012, -0.03251139, -0.03250308,\n",
              "        -0.03248975, -0.03248063, -0.03247202, -0.03246389, -0.03245619,\n",
              "        -0.03262646, -0.03261638, -0.03260677, -0.03259758, -0.0325888 ,\n",
              "        -0.03259884, -0.03258881, -0.03257927, -0.03257016, -0.03256146,\n",
              "        -0.03253901, -0.03252932, -0.03252012, -0.03251139, -0.03250308,\n",
              "        -0.03248975, -0.03248063, -0.03247202, -0.03246389, -0.03245619,\n",
              "        -0.03262646, -0.03261638, -0.03260677, -0.03259758, -0.0325888 ,\n",
              "        -0.03259884, -0.03258881, -0.03257927, -0.03257016, -0.03256146,\n",
              "        -0.03253901, -0.03252932, -0.03252012, -0.03251139, -0.03250308,\n",
              "        -0.03248975, -0.03248063, -0.03247202, -0.03246389, -0.03245619]),\n",
              " 'split2_test_score': array([-0.03500538, -0.03499933, -0.03499374, -0.03498856, -0.03498375,\n",
              "        -0.03498911, -0.03498361, -0.03497855, -0.03497387, -0.03496952,\n",
              "        -0.03495864, -0.03495435, -0.03495042, -0.03494681, -0.0349435 ,\n",
              "        -0.03493831, -0.03493506, -0.03493213, -0.03492949, -0.03492711,\n",
              "        -0.03500538, -0.03499933, -0.03499374, -0.03498856, -0.03498375,\n",
              "        -0.03498911, -0.03498361, -0.03497855, -0.03497387, -0.03496952,\n",
              "        -0.03495864, -0.03495435, -0.03495042, -0.03494681, -0.0349435 ,\n",
              "        -0.03493831, -0.03493506, -0.03493213, -0.03492949, -0.03492711,\n",
              "        -0.03500538, -0.03499933, -0.03499374, -0.03498856, -0.03498375,\n",
              "        -0.03498911, -0.03498361, -0.03497855, -0.03497387, -0.03496952,\n",
              "        -0.03495864, -0.03495435, -0.03495042, -0.03494681, -0.0349435 ,\n",
              "        -0.03493831, -0.03493506, -0.03493213, -0.03492949, -0.03492711]),\n",
              " 'split3_test_score': array([-0.0335383 , -0.03353019, -0.03352215, -0.03351421, -0.0335064 ,\n",
              "        -0.0335147 , -0.03350622, -0.03349786, -0.03348967, -0.03348166,\n",
              "        -0.03346204, -0.03345313, -0.03344451, -0.03343619, -0.03342819,\n",
              "        -0.03341781, -0.03340912, -0.03340085, -0.03339299, -0.03338553,\n",
              "        -0.0335383 , -0.03353019, -0.03352215, -0.03351421, -0.0335064 ,\n",
              "        -0.0335147 , -0.03350622, -0.03349786, -0.03348967, -0.03348166,\n",
              "        -0.03346204, -0.03345313, -0.03344451, -0.03343619, -0.03342819,\n",
              "        -0.03341781, -0.03340912, -0.03340085, -0.03339299, -0.03338553,\n",
              "        -0.0335383 , -0.03353019, -0.03352215, -0.03351421, -0.0335064 ,\n",
              "        -0.0335147 , -0.03350622, -0.03349786, -0.03348967, -0.03348166,\n",
              "        -0.03346204, -0.03345313, -0.03344451, -0.03343619, -0.03342819,\n",
              "        -0.03341781, -0.03340912, -0.03340085, -0.03339299, -0.03338553]),\n",
              " 'split4_test_score': array([-0.03985026, -0.03984062, -0.03983131, -0.03982229, -0.03981353,\n",
              "        -0.03982084, -0.03981094, -0.03980136, -0.03979208, -0.03978308,\n",
              "        -0.03975364, -0.03974323, -0.0397332 , -0.0397235 , -0.03971414,\n",
              "        -0.03969401, -0.03968346, -0.03967335, -0.03966364, -0.03965431,\n",
              "        -0.03985026, -0.03984062, -0.03983131, -0.03982229, -0.03981353,\n",
              "        -0.03982084, -0.03981094, -0.03980136, -0.03979208, -0.03978308,\n",
              "        -0.03975364, -0.03974323, -0.0397332 , -0.0397235 , -0.03971414,\n",
              "        -0.03969401, -0.03968346, -0.03967335, -0.03966364, -0.03965431,\n",
              "        -0.03985026, -0.03984062, -0.03983131, -0.03982229, -0.03981353,\n",
              "        -0.03982084, -0.03981094, -0.03980136, -0.03979208, -0.03978308,\n",
              "        -0.03975364, -0.03974323, -0.0397332 , -0.0397235 , -0.03971414,\n",
              "        -0.03969401, -0.03968346, -0.03967335, -0.03966364, -0.03965431]),\n",
              " 'std_fit_time': array([0.00579153, 0.00485547, 0.00361373, 0.00328138, 0.00393984,\n",
              "        0.00496638, 0.0134031 , 0.00999826, 0.00530754, 0.00964159,\n",
              "        0.00561264, 0.00300175, 0.004288  , 0.00626059, 0.00226579,\n",
              "        0.00372197, 0.00281775, 0.00414274, 0.00440414, 0.00535343,\n",
              "        0.00298518, 0.00392187, 0.01103687, 0.00596282, 0.00267014,\n",
              "        0.00479609, 0.0042436 , 0.00272277, 0.00845596, 0.00239997,\n",
              "        0.00276932, 0.00444526, 0.00404064, 0.00332426, 0.00506833,\n",
              "        0.01553182, 0.00482746, 0.00385963, 0.00676436, 0.00572213,\n",
              "        0.00331713, 0.00285005, 0.00420254, 0.00454861, 0.00386117,\n",
              "        0.00305587, 0.00656912, 0.00545472, 0.00402601, 0.00999502,\n",
              "        0.00646656, 0.00807246, 0.00708395, 0.00476773, 0.00517257,\n",
              "        0.00358628, 0.00681935, 0.00488361, 0.00392718, 0.00743701]),\n",
              " 'std_score_time': array([1.64626011e-04, 1.89935104e-04, 1.89373847e-04, 1.53951763e-04,\n",
              "        2.43784852e-04, 1.30823679e-04, 1.18454412e-04, 3.66738927e-05,\n",
              "        5.86721723e-05, 3.01413894e-05, 4.39143465e-05, 1.60571046e-04,\n",
              "        4.63009617e-05, 1.30096750e-04, 1.55895446e-04, 7.69932409e-05,\n",
              "        1.48896936e-05, 1.65358849e-04, 1.41831684e-04, 1.23638606e-04,\n",
              "        1.90925122e-04, 2.80364841e-05, 2.17366625e-05, 1.75038341e-04,\n",
              "        6.43018046e-05, 8.84600917e-05, 3.93624958e-05, 4.36088372e-05,\n",
              "        3.25717910e-04, 1.60726762e-04, 3.29797953e-04, 8.34116727e-05,\n",
              "        2.37243743e-04, 3.72176213e-05, 2.42476904e-04, 1.11582075e-04,\n",
              "        1.39239014e-04, 2.72969995e-04, 2.28830342e-04, 1.91092906e-04,\n",
              "        1.62869356e-04, 1.04043573e-04, 1.87574211e-04, 2.33202895e-04,\n",
              "        1.03645753e-04, 1.03812783e-04, 7.66469419e-05, 1.80876685e-04,\n",
              "        6.32922254e-05, 1.44066182e-04, 2.03299062e-04, 1.94871953e-04,\n",
              "        5.53243938e-04, 5.84757910e-05, 3.35272476e-05, 3.63937664e-05,\n",
              "        6.31884984e-05, 6.07709456e-05, 1.92192386e-04, 5.11148104e-04]),\n",
              " 'std_test_score': array([0.00269029, 0.0026902 , 0.00269008, 0.00268994, 0.00268978,\n",
              "        0.00268903, 0.00268883, 0.0026886 , 0.00268835, 0.00268808,\n",
              "        0.00268488, 0.0026844 , 0.00268389, 0.00268336, 0.00268282,\n",
              "        0.00267971, 0.00267898, 0.00267823, 0.00267748, 0.00267671,\n",
              "        0.00269029, 0.0026902 , 0.00269008, 0.00268994, 0.00268978,\n",
              "        0.00268903, 0.00268883, 0.0026886 , 0.00268835, 0.00268808,\n",
              "        0.00268488, 0.0026844 , 0.00268389, 0.00268336, 0.00268282,\n",
              "        0.00267971, 0.00267898, 0.00267823, 0.00267748, 0.00267671,\n",
              "        0.00269029, 0.0026902 , 0.00269008, 0.00268994, 0.00268978,\n",
              "        0.00268903, 0.00268883, 0.0026886 , 0.00268835, 0.00268808,\n",
              "        0.00268488, 0.0026844 , 0.00268389, 0.00268336, 0.00268282,\n",
              "        0.00267971, 0.00267898, 0.00267823, 0.00267748, 0.00267671])}"
            ]
          },
          "metadata": {
            "tags": []
          },
          "execution_count": 232
        }
      ]
    },
    {
      "cell_type": "code",
      "metadata": {
        "id": "3k9i72wojiDR",
        "colab_type": "code",
        "colab": {}
      },
      "source": [
        "xgb=xgboost.XGBRegressor(booster=\"gblinear\",n_estimators=105,learning_rate=0.3,subsample=0.7,colsample_bytree=0.7,gamma=10)"
      ],
      "execution_count": 233,
      "outputs": []
    },
    {
      "cell_type": "code",
      "metadata": {
        "id": "GIJKKXrPjxDc",
        "colab_type": "code",
        "colab": {
          "base_uri": "https://localhost:8080/",
          "height": 147
        },
        "outputId": "8e08e100-eff1-4c41-f95d-badd3309e88e"
      },
      "source": [
        "xgb.fit(train_vectorised,ytrain)"
      ],
      "execution_count": 234,
      "outputs": [
        {
          "output_type": "stream",
          "text": [
            "[12:49:52] WARNING: /workspace/src/objective/regression_obj.cu:152: reg:linear is now deprecated in favor of reg:squarederror.\n"
          ],
          "name": "stdout"
        },
        {
          "output_type": "execute_result",
          "data": {
            "text/plain": [
              "XGBRegressor(base_score=0.5, booster='gblinear', colsample_bylevel=1,\n",
              "             colsample_bynode=1, colsample_bytree=0.7, gamma=10,\n",
              "             importance_type='gain', learning_rate=0.3, max_delta_step=0,\n",
              "             max_depth=3, min_child_weight=1, missing=None, n_estimators=105,\n",
              "             n_jobs=1, nthread=None, objective='reg:linear', random_state=0,\n",
              "             reg_alpha=0, reg_lambda=1, scale_pos_weight=1, seed=None,\n",
              "             silent=None, subsample=0.7, verbosity=1)"
            ]
          },
          "metadata": {
            "tags": []
          },
          "execution_count": 234
        }
      ]
    },
    {
      "cell_type": "code",
      "metadata": {
        "id": "QbEO8nZoj4sK",
        "colab_type": "code",
        "colab": {}
      },
      "source": [
        "xgb_predict=xgb.predict(train_vectorised)"
      ],
      "execution_count": 235,
      "outputs": []
    },
    {
      "cell_type": "code",
      "metadata": {
        "id": "UiJyiMdZkQs9",
        "colab_type": "code",
        "colab": {}
      },
      "source": [
        "test_predict=xgb.predict(test_vectorised)"
      ],
      "execution_count": 236,
      "outputs": []
    },
    {
      "cell_type": "code",
      "metadata": {
        "id": "YxGkwJ-QkVOW",
        "colab_type": "code",
        "colab": {
          "base_uri": "https://localhost:8080/",
          "height": 33
        },
        "outputId": "f74d9895-47a0-4085-9b89-f5b500a59764"
      },
      "source": [
        "mse_xgb=mean_squared_error(ytrain,xgb_predict)\n",
        "mse_xgb"
      ],
      "execution_count": 237,
      "outputs": [
        {
          "output_type": "execute_result",
          "data": {
            "text/plain": [
              "0.034498049035675084"
            ]
          },
          "metadata": {
            "tags": []
          },
          "execution_count": 237
        }
      ]
    },
    {
      "cell_type": "code",
      "metadata": {
        "id": "z7Gy7OfDkdVA",
        "colab_type": "code",
        "colab": {}
      },
      "source": [
        "final_data=pd.DataFrame(np.hstack((np.array(xtest_filled[\"Employee_ID\"]).reshape(3000,1),test_predict.reshape(3000,1))),columns=[\"Employee_ID\",\"Attrition_rate\"])\n",
        "final_data.to_csv(\"finial_data.csv\",index=False)"
      ],
      "execution_count": 238,
      "outputs": []
    },
    {
      "cell_type": "code",
      "metadata": {
        "id": "Gw-u4Yhdl99J",
        "colab_type": "code",
        "colab": {}
      },
      "source": [
        ""
      ],
      "execution_count": 238,
      "outputs": []
    },
    {
      "cell_type": "code",
      "metadata": {
        "id": "y5s7jJPk1wPa",
        "colab_type": "code",
        "colab": {}
      },
      "source": [
        "from mlxtend.regressor import StackingRegressor\n",
        "from mlxtend.data import boston_housing_data\n",
        "from sklearn.linear_model import LinearRegression\n",
        "from sklearn.linear_model import Ridge\n",
        "from sklearn.svm import SVR\n",
        "from sklearn.ensemble import RandomForestRegressor"
      ],
      "execution_count": 239,
      "outputs": []
    },
    {
      "cell_type": "code",
      "metadata": {
        "id": "A4HOCNNz16df",
        "colab_type": "code",
        "colab": {}
      },
      "source": [
        "lr=LinearRegression()\n",
        "\n",
        "sgd=SGDRegressor(penalty=\"l2\",learning_rate=\"constant\")\n",
        "rfr=RandomForestRegressor(max_samples=0.7,oob_score=True)\n",
        "xgb=xgboost.XGBRegressor(booster=\"gblinear\",subsample=0.7,colsample_bytree=0.7,missing=0.00)\n",
        "\n"
      ],
      "execution_count": 48,
      "outputs": []
    },
    {
      "cell_type": "code",
      "metadata": {
        "id": "3YSgkhfCmbSn",
        "colab_type": "code",
        "colab": {
          "base_uri": "https://localhost:8080/",
          "height": 391
        },
        "outputId": "352db02a-23d5-4c59-99c5-9657f57d792b"
      },
      "source": [
        "sgd=SGDRegressor(penalty=\"l2\",learning_rate=\"constant\")\n",
        "params={'alpha': [0.001,0.01,0.1, 1.0, 10.0]}\n",
        "grid = GridSearchCV(estimator=sgd, \n",
        "                    param_grid=params, \n",
        "                    cv=5,\n",
        "                    refit=True,scoring=\"neg_mean_squared_error\")\n",
        "grid.fit(train_vectorised,ytrain)\n",
        "grid.cv_results_\n"
      ],
      "execution_count": 103,
      "outputs": [
        {
          "output_type": "execute_result",
          "data": {
            "text/plain": [
              "{'mean_fit_time': array([0.01561966, 0.01512966, 0.01516318, 0.0151515 , 0.01524386]),\n",
              " 'mean_score_time': array([0.00135894, 0.00135036, 0.00134482, 0.00135384, 0.00136251]),\n",
              " 'mean_test_score': array([-0.03630264, -0.03749463, -0.03499065, -0.03504572, -0.03489336]),\n",
              " 'param_alpha': masked_array(data=[0.001, 0.01, 0.1, 1.0, 10.0],\n",
              "              mask=[False, False, False, False, False],\n",
              "        fill_value='?',\n",
              "             dtype=object),\n",
              " 'params': [{'alpha': 0.001},\n",
              "  {'alpha': 0.01},\n",
              "  {'alpha': 0.1},\n",
              "  {'alpha': 1.0},\n",
              "  {'alpha': 10.0}],\n",
              " 'rank_test_score': array([4, 5, 2, 3, 1], dtype=int32),\n",
              " 'split0_test_score': array([-0.03483048, -0.03358476, -0.03294343, -0.03272354, -0.03273791]),\n",
              " 'split1_test_score': array([-0.0337392 , -0.03793152, -0.03279059, -0.03357361, -0.03379929]),\n",
              " 'split2_test_score': array([-0.03627089, -0.03615878, -0.03551886, -0.03528022, -0.03507305]),\n",
              " 'split3_test_score': array([-0.0347518 , -0.03666619, -0.03410427, -0.03392527, -0.03350727]),\n",
              " 'split4_test_score': array([-0.04192084, -0.04313192, -0.03959611, -0.03972595, -0.03934927]),\n",
              " 'std_fit_time': array([6.70192643e-04, 9.87774360e-05, 9.00444826e-05, 4.68425467e-05,\n",
              "        2.65930677e-05]),\n",
              " 'std_score_time': array([3.46531050e-05, 2.26928402e-05, 1.79797329e-05, 2.32956304e-05,\n",
              "        2.14005877e-05]),\n",
              " 'std_test_score': array([0.00292263, 0.00315366, 0.00250225, 0.00248091, 0.00235166])}"
            ]
          },
          "metadata": {
            "tags": []
          },
          "execution_count": 103
        }
      ]
    },
    {
      "cell_type": "code",
      "metadata": {
        "id": "8k9rURR-nZrn",
        "colab_type": "code",
        "colab": {
          "base_uri": "https://localhost:8080/",
          "height": 1000
        },
        "outputId": "c81789bf-6201-4ea7-d297-a7b9a03f207f"
      },
      "source": [
        "rfr=RandomForestRegressor(max_samples=0.7,oob_score=True)\n",
        "params={'max_depth': [2,4,6,8,10,15,20],'min_samples_split':[10,50,100,150,200,250]}\n",
        "grid = GridSearchCV(estimator=rfr, \n",
        "                    param_grid=params, \n",
        "                    cv=5,\n",
        "                    refit=True)\n",
        "grid.fit(train_vectorised,ytrain)\n",
        "grid.cv_results_\n"
      ],
      "execution_count": 105,
      "outputs": [
        {
          "output_type": "execute_result",
          "data": {
            "text/plain": [
              "{'mean_fit_time': array([0.51787505, 0.51621675, 0.51504927, 0.51776552, 0.51745391,\n",
              "        0.5148766 , 0.85807638, 0.8489604 , 0.84401965, 0.83483415,\n",
              "        0.82233438, 0.82283797, 1.20367637, 1.17921147, 1.14157643,\n",
              "        1.1262557 , 1.10067658, 1.06542697, 1.55731401, 1.46695242,\n",
              "        1.39662313, 1.33591237, 1.28162279, 1.23067946, 1.90387816,\n",
              "        1.71229196, 1.57787032, 1.47788129, 1.39447331, 1.33308573,\n",
              "        2.60692096, 2.05732045, 1.78345594, 1.61307073, 1.49648256,\n",
              "        1.40708294, 2.95952268, 2.14936547, 1.82163658, 1.64240727,\n",
              "        1.49822655, 1.41227345]),\n",
              " 'mean_score_time': array([0.00856061, 0.00860577, 0.00862503, 0.00992985, 0.00885782,\n",
              "        0.0085948 , 0.01048064, 0.01046553, 0.01059451, 0.01028376,\n",
              "        0.01027436, 0.01053925, 0.01242514, 0.01243787, 0.01224446,\n",
              "        0.0122015 , 0.01200967, 0.01188169, 0.01604991, 0.01427827,\n",
              "        0.01484556, 0.01374931, 0.01328716, 0.01294765, 0.0175118 ,\n",
              "        0.01588883, 0.01529722, 0.01454053, 0.01392522, 0.01358509,\n",
              "        0.02414551, 0.01892676, 0.01686258, 0.01562181, 0.01667037,\n",
              "        0.0141242 , 0.02683315, 0.02032256, 0.01697211, 0.01551013,\n",
              "        0.01463509, 0.01403618]),\n",
              " 'mean_test_score': array([-0.00224192, -0.00231662, -0.00240742, -0.00214794, -0.00251953,\n",
              "        -0.00211086, -0.00497095, -0.00341185, -0.00369731, -0.00265347,\n",
              "        -0.00312953, -0.00336669, -0.00614899, -0.00514988, -0.00491508,\n",
              "        -0.00434726, -0.00431502, -0.00371978, -0.01111897, -0.00718285,\n",
              "        -0.0059185 , -0.00505887, -0.00467703, -0.00520043, -0.01798659,\n",
              "        -0.01025994, -0.00780563, -0.00672495, -0.00555923, -0.00511157,\n",
              "        -0.03203581, -0.0129113 , -0.00919349, -0.00809113, -0.00432626,\n",
              "        -0.00499251, -0.03733158, -0.01668261, -0.00768929, -0.00594984,\n",
              "        -0.00560297, -0.00447411]),\n",
              " 'param_max_depth': masked_array(data=[2, 2, 2, 2, 2, 2, 4, 4, 4, 4, 4, 4, 6, 6, 6, 6, 6, 6,\n",
              "                    8, 8, 8, 8, 8, 8, 10, 10, 10, 10, 10, 10, 15, 15, 15,\n",
              "                    15, 15, 15, 20, 20, 20, 20, 20, 20],\n",
              "              mask=[False, False, False, False, False, False, False, False,\n",
              "                    False, False, False, False, False, False, False, False,\n",
              "                    False, False, False, False, False, False, False, False,\n",
              "                    False, False, False, False, False, False, False, False,\n",
              "                    False, False, False, False, False, False, False, False,\n",
              "                    False, False],\n",
              "        fill_value='?',\n",
              "             dtype=object),\n",
              " 'param_min_samples_split': masked_array(data=[10, 50, 100, 150, 200, 250, 10, 50, 100, 150, 200, 250,\n",
              "                    10, 50, 100, 150, 200, 250, 10, 50, 100, 150, 200, 250,\n",
              "                    10, 50, 100, 150, 200, 250, 10, 50, 100, 150, 200, 250,\n",
              "                    10, 50, 100, 150, 200, 250],\n",
              "              mask=[False, False, False, False, False, False, False, False,\n",
              "                    False, False, False, False, False, False, False, False,\n",
              "                    False, False, False, False, False, False, False, False,\n",
              "                    False, False, False, False, False, False, False, False,\n",
              "                    False, False, False, False, False, False, False, False,\n",
              "                    False, False],\n",
              "        fill_value='?',\n",
              "             dtype=object),\n",
              " 'params': [{'max_depth': 2, 'min_samples_split': 10},\n",
              "  {'max_depth': 2, 'min_samples_split': 50},\n",
              "  {'max_depth': 2, 'min_samples_split': 100},\n",
              "  {'max_depth': 2, 'min_samples_split': 150},\n",
              "  {'max_depth': 2, 'min_samples_split': 200},\n",
              "  {'max_depth': 2, 'min_samples_split': 250},\n",
              "  {'max_depth': 4, 'min_samples_split': 10},\n",
              "  {'max_depth': 4, 'min_samples_split': 50},\n",
              "  {'max_depth': 4, 'min_samples_split': 100},\n",
              "  {'max_depth': 4, 'min_samples_split': 150},\n",
              "  {'max_depth': 4, 'min_samples_split': 200},\n",
              "  {'max_depth': 4, 'min_samples_split': 250},\n",
              "  {'max_depth': 6, 'min_samples_split': 10},\n",
              "  {'max_depth': 6, 'min_samples_split': 50},\n",
              "  {'max_depth': 6, 'min_samples_split': 100},\n",
              "  {'max_depth': 6, 'min_samples_split': 150},\n",
              "  {'max_depth': 6, 'min_samples_split': 200},\n",
              "  {'max_depth': 6, 'min_samples_split': 250},\n",
              "  {'max_depth': 8, 'min_samples_split': 10},\n",
              "  {'max_depth': 8, 'min_samples_split': 50},\n",
              "  {'max_depth': 8, 'min_samples_split': 100},\n",
              "  {'max_depth': 8, 'min_samples_split': 150},\n",
              "  {'max_depth': 8, 'min_samples_split': 200},\n",
              "  {'max_depth': 8, 'min_samples_split': 250},\n",
              "  {'max_depth': 10, 'min_samples_split': 10},\n",
              "  {'max_depth': 10, 'min_samples_split': 50},\n",
              "  {'max_depth': 10, 'min_samples_split': 100},\n",
              "  {'max_depth': 10, 'min_samples_split': 150},\n",
              "  {'max_depth': 10, 'min_samples_split': 200},\n",
              "  {'max_depth': 10, 'min_samples_split': 250},\n",
              "  {'max_depth': 15, 'min_samples_split': 10},\n",
              "  {'max_depth': 15, 'min_samples_split': 50},\n",
              "  {'max_depth': 15, 'min_samples_split': 100},\n",
              "  {'max_depth': 15, 'min_samples_split': 150},\n",
              "  {'max_depth': 15, 'min_samples_split': 200},\n",
              "  {'max_depth': 15, 'min_samples_split': 250},\n",
              "  {'max_depth': 20, 'min_samples_split': 10},\n",
              "  {'max_depth': 20, 'min_samples_split': 50},\n",
              "  {'max_depth': 20, 'min_samples_split': 100},\n",
              "  {'max_depth': 20, 'min_samples_split': 150},\n",
              "  {'max_depth': 20, 'min_samples_split': 200},\n",
              "  {'max_depth': 20, 'min_samples_split': 250}],\n",
              " 'rank_test_score': array([ 3,  4,  5,  2,  6,  1, 19, 10, 11,  7,  8,  9, 29, 23, 18, 15, 13,\n",
              "        12, 37, 31, 27, 21, 17, 24, 40, 36, 33, 30, 25, 22, 41, 38, 35, 34,\n",
              "        14, 20, 42, 39, 32, 28, 26, 16], dtype=int32),\n",
              " 'split0_test_score': array([ 4.95806779e-04, -5.86165935e-04,  2.79798204e-05,  6.03756739e-04,\n",
              "        -5.51534436e-04, -1.93899202e-04, -2.60142140e-03, -9.91664910e-04,\n",
              "        -1.67463226e-03, -1.11553452e-03, -1.06642445e-03, -3.75687551e-04,\n",
              "        -3.61962451e-03, -3.47152057e-03, -9.36367971e-04, -3.40712828e-03,\n",
              "        -2.69934847e-03, -2.64503353e-03, -1.10775037e-02, -4.93648915e-03,\n",
              "        -5.48178794e-03, -2.11225954e-03, -1.85494691e-03, -1.24970002e-03,\n",
              "        -1.47339262e-02, -5.85789202e-03, -4.47880574e-03, -3.49041217e-03,\n",
              "        -3.53390860e-03, -3.52271292e-03, -2.99719749e-02, -1.28366496e-02,\n",
              "        -5.80173569e-03, -4.27924746e-03, -3.63768780e-03, -1.80799902e-03,\n",
              "        -3.51017548e-02, -9.02734671e-03, -6.99319466e-03, -3.76640049e-03,\n",
              "        -5.76814271e-03, -2.27161707e-03]),\n",
              " 'split1_test_score': array([-0.00560659, -0.00339359, -0.00539424, -0.00442676, -0.00534597,\n",
              "        -0.00407873, -0.00707186, -0.00746672, -0.00916736, -0.0079763 ,\n",
              "        -0.00596448, -0.00883637, -0.01353225, -0.00858625, -0.01009744,\n",
              "        -0.01005483, -0.00909267, -0.00907495, -0.01802915, -0.01353686,\n",
              "        -0.01213454, -0.01413143, -0.00928362, -0.01120569, -0.02585954,\n",
              "        -0.02241103, -0.0157928 , -0.01338634, -0.01047258, -0.01001718,\n",
              "        -0.04855516, -0.01854072, -0.0117875 , -0.01786362, -0.00985735,\n",
              "        -0.01439275, -0.05860637, -0.02701322, -0.01418086, -0.01294144,\n",
              "        -0.01118227, -0.0105441 ]),\n",
              " 'split2_test_score': array([ 2.63612254e-05, -2.34700486e-04, -2.90514629e-04, -1.24630972e-04,\n",
              "         1.33057847e-03, -4.52922284e-04, -1.11976500e-03,  1.47098939e-03,\n",
              "         1.32949145e-03,  1.68677146e-03,  7.40347173e-04,  7.13454683e-04,\n",
              "         1.08157451e-03,  3.96978422e-04,  1.17286796e-03,  8.07310795e-04,\n",
              "         1.11733870e-03,  2.11354785e-03,  2.26838386e-03,  1.46257923e-03,\n",
              "         2.54748969e-03,  3.53901488e-03,  1.35021256e-03,  1.33510854e-03,\n",
              "        -5.69519962e-03,  4.89925480e-04,  8.29933841e-04, -1.13787793e-04,\n",
              "        -3.73574405e-04,  2.06705011e-03, -1.04101831e-02, -9.23470461e-04,\n",
              "        -2.03058041e-05,  4.86311389e-04,  3.65194263e-03,  7.36666039e-04,\n",
              "        -1.69236473e-02, -4.16474037e-04,  1.00953377e-03,  2.76367243e-03,\n",
              "         1.33464141e-03,  2.05462084e-03]),\n",
              " 'split3_test_score': array([-0.00360029, -0.00347385, -0.00357387, -0.00353134, -0.00378432,\n",
              "        -0.00280441, -0.00629735, -0.00472212, -0.00493679, -0.00413354,\n",
              "        -0.00465105, -0.00384581, -0.00887863, -0.00697164, -0.0078879 ,\n",
              "        -0.00441344, -0.00678867, -0.0060329 , -0.01582222, -0.00974214,\n",
              "        -0.00875563, -0.00784   , -0.00734215, -0.00838698, -0.0274771 ,\n",
              "        -0.01788497, -0.01196365, -0.01031232, -0.00777301, -0.00807247,\n",
              "        -0.04936721, -0.02285345, -0.0158576 , -0.01128914, -0.00495851,\n",
              "        -0.0058873 , -0.05138866, -0.02937753, -0.00954286, -0.00840892,\n",
              "        -0.00750777, -0.00560851]),\n",
              " 'split4_test_score': array([-0.00252491, -0.00389478, -0.00280647, -0.00326073, -0.00424638,\n",
              "        -0.00302435, -0.00776435, -0.00534974, -0.00403725, -0.00172875,\n",
              "        -0.00470604, -0.00448902, -0.00579601, -0.00711696, -0.00682654,\n",
              "        -0.00466822, -0.00411176, -0.00295955, -0.01293435, -0.00916136,\n",
              "        -0.00576805, -0.00474967, -0.00625465, -0.0064949 , -0.01616717,\n",
              "        -0.00563575, -0.00762285, -0.00632189, -0.00564307, -0.00601254,\n",
              "        -0.02187452, -0.00940223, -0.0125003 , -0.00750993, -0.00682968,\n",
              "        -0.0036112 , -0.0246375 , -0.0175785 , -0.00873909, -0.0073961 ,\n",
              "        -0.0048913 , -0.00600094]),\n",
              " 'std_fit_time': array([0.00622713, 0.00282371, 0.00362952, 0.00693246, 0.00541903,\n",
              "        0.0045429 , 0.00967106, 0.0060625 , 0.00673574, 0.00738911,\n",
              "        0.00263154, 0.00575762, 0.00832205, 0.00939499, 0.00280374,\n",
              "        0.00618831, 0.00816835, 0.0096724 , 0.0092336 , 0.00384589,\n",
              "        0.0125317 , 0.00751522, 0.00886218, 0.00487712, 0.00792819,\n",
              "        0.00759278, 0.0126974 , 0.00965574, 0.00929447, 0.01677903,\n",
              "        0.00888428, 0.01324286, 0.02257644, 0.02767902, 0.01988597,\n",
              "        0.02064702, 0.0222128 , 0.02169806, 0.01828023, 0.01382608,\n",
              "        0.02089765, 0.02893838]),\n",
              " 'std_score_time': array([1.01669174e-04, 9.48154929e-05, 1.32894952e-04, 2.15957789e-03,\n",
              "        3.89041049e-04, 1.25733414e-04, 3.65761081e-04, 1.89441864e-04,\n",
              "        3.47330117e-04, 1.19072015e-04, 1.08583098e-04, 3.13033313e-04,\n",
              "        3.38551340e-04, 3.25653053e-04, 2.71158430e-04, 1.57109515e-04,\n",
              "        2.00005502e-04, 1.15821832e-04, 2.43941265e-03, 2.02730367e-04,\n",
              "        1.85230425e-03, 2.86306443e-04, 1.19038039e-04, 2.96720312e-04,\n",
              "        3.18422286e-04, 1.38381857e-04, 5.11264690e-04, 3.23335841e-04,\n",
              "        1.76560804e-04, 2.54928535e-04, 7.97834930e-04, 1.69793175e-04,\n",
              "        2.42500664e-04, 2.95155984e-04, 2.57581848e-03, 1.77988397e-04,\n",
              "        7.68541121e-04, 1.61013543e-03, 4.11431044e-04, 1.58461059e-04,\n",
              "        2.11356853e-04, 1.13805757e-04]),\n",
              " 'std_test_score': array([0.00227537, 0.00156962, 0.00204222, 0.00200054, 0.00250067,\n",
              "        0.00152391, 0.00262383, 0.0032129 , 0.00349094, 0.00324288,\n",
              "        0.00253258, 0.0033764 , 0.00491461, 0.00324288, 0.00429515,\n",
              "        0.00346806, 0.00349592, 0.00373602, 0.00710478, 0.00511131,\n",
              "        0.0048698 , 0.00587789, 0.00387567, 0.004609  , 0.00796268,\n",
              "        0.00851012, 0.00577509, 0.00472389, 0.00346531, 0.0041881 ,\n",
              "        0.0151555 , 0.00757052, 0.0056165 , 0.00623169, 0.00450301,\n",
              "        0.0051776 , 0.01570232, 0.01088003, 0.00495646, 0.00524812,\n",
              "        0.00408463, 0.00419376])}"
            ]
          },
          "metadata": {
            "tags": []
          },
          "execution_count": 105
        }
      ]
    },
    {
      "cell_type": "code",
      "metadata": {
        "id": "hm-4aUsTxkVo",
        "colab_type": "code",
        "colab": {}
      },
      "source": [
        "rfr=RandomForestRegressor(max_samples=0.7,oob_score=True,max_depth=2,min_samples_split=250)\n",
        "lr=LinearRegression()\n",
        "sgd=SGDRegressor(penalty=\"l2\",learning_rate=\"constant\",alpha=10)\n",
        "xgb=xgboost.XGBRegressor(booster=\"gblinear\",subsample=0.7,colsample_bytree=0.7,missing=0.00,)"
      ],
      "execution_count": 106,
      "outputs": []
    },
    {
      "cell_type": "code",
      "metadata": {
        "id": "W1Irf0TI51lx",
        "colab_type": "code",
        "colab": {}
      },
      "source": [
        "params = {\"meta_regressor__learning_rate\":[0.18,0.2,0.25,0.3],\"meta_regressor__n_estimators\":[85,90,95,100,105]}"
      ],
      "execution_count": 132,
      "outputs": []
    },
    {
      "cell_type": "code",
      "metadata": {
        "id": "VYSe1nCs215Z",
        "colab_type": "code",
        "colab": {}
      },
      "source": [
        "stregr=StackingRegressor(regressors=[lr,sgd,rfr],meta_regressor=xgb)"
      ],
      "execution_count": 133,
      "outputs": []
    },
    {
      "cell_type": "code",
      "metadata": {
        "id": "K0bBJjO-8Ci9",
        "colab_type": "code",
        "colab": {}
      },
      "source": [
        "grid = GridSearchCV(estimator=stregr, \n",
        "                    param_grid=params, \n",
        "                    cv=5,\n",
        "                    refit=True,scoring=\"neg_mean_squared_error\")"
      ],
      "execution_count": 134,
      "outputs": []
    },
    {
      "cell_type": "code",
      "metadata": {
        "id": "-FIea1LP-A8-",
        "colab_type": "code",
        "colab": {}
      },
      "source": [
        ""
      ],
      "execution_count": 143,
      "outputs": []
    },
    {
      "cell_type": "code",
      "metadata": {
        "id": "QKBSjrSFzYas",
        "colab_type": "code",
        "colab": {
          "base_uri": "https://localhost:8080/",
          "height": 1000
        },
        "outputId": "b543454c-5301-4870-b09b-28a45381e2ef"
      },
      "source": [
        "grid.cv_results_"
      ],
      "execution_count": 136,
      "outputs": [
        {
          "output_type": "execute_result",
          "data": {
            "text/plain": [
              "{'mean_fit_time': array([0.72450767, 0.72183781, 0.72703786, 0.72802997, 0.73463454,\n",
              "        0.72163692, 0.72463598, 0.72862105, 0.73054738, 0.73770814,\n",
              "        0.71771774, 0.73058991, 0.72803593, 0.7316946 , 0.73338118,\n",
              "        0.72102261, 0.72932119, 0.72821665, 0.73274093, 0.73100863]),\n",
              " 'mean_score_time': array([0.01534014, 0.01517735, 0.01527295, 0.01537132, 0.01543837,\n",
              "        0.01515088, 0.01528611, 0.01535206, 0.01530156, 0.01540565,\n",
              "        0.01523466, 0.01575036, 0.0151032 , 0.01511407, 0.01548262,\n",
              "        0.01511598, 0.01582375, 0.01520357, 0.01512151, 0.01513953]),\n",
              " 'mean_test_score': array([-0.03451781, -0.03451781, -0.03451781, -0.0345178 , -0.03451781,\n",
              "        -0.03451781, -0.03451781, -0.0345178 , -0.03451781, -0.03451781,\n",
              "        -0.03451781, -0.03451781, -0.03451781, -0.03451781, -0.03451781,\n",
              "        -0.03451781, -0.03451781, -0.03451781, -0.03451781, -0.03451781]),\n",
              " 'param_meta_regressor__learning_rate': masked_array(data=[0.18, 0.18, 0.18, 0.18, 0.18, 0.2, 0.2, 0.2, 0.2, 0.2,\n",
              "                    0.25, 0.25, 0.25, 0.25, 0.25, 0.3, 0.3, 0.3, 0.3, 0.3],\n",
              "              mask=[False, False, False, False, False, False, False, False,\n",
              "                    False, False, False, False, False, False, False, False,\n",
              "                    False, False, False, False],\n",
              "        fill_value='?',\n",
              "             dtype=object),\n",
              " 'param_meta_regressor__n_estimators': masked_array(data=[85, 90, 95, 100, 105, 85, 90, 95, 100, 105, 85, 90, 95,\n",
              "                    100, 105, 85, 90, 95, 100, 105],\n",
              "              mask=[False, False, False, False, False, False, False, False,\n",
              "                    False, False, False, False, False, False, False, False,\n",
              "                    False, False, False, False],\n",
              "        fill_value='?',\n",
              "             dtype=object),\n",
              " 'params': [{'meta_regressor__learning_rate': 0.18,\n",
              "   'meta_regressor__n_estimators': 85},\n",
              "  {'meta_regressor__learning_rate': 0.18, 'meta_regressor__n_estimators': 90},\n",
              "  {'meta_regressor__learning_rate': 0.18, 'meta_regressor__n_estimators': 95},\n",
              "  {'meta_regressor__learning_rate': 0.18, 'meta_regressor__n_estimators': 100},\n",
              "  {'meta_regressor__learning_rate': 0.18, 'meta_regressor__n_estimators': 105},\n",
              "  {'meta_regressor__learning_rate': 0.2, 'meta_regressor__n_estimators': 85},\n",
              "  {'meta_regressor__learning_rate': 0.2, 'meta_regressor__n_estimators': 90},\n",
              "  {'meta_regressor__learning_rate': 0.2, 'meta_regressor__n_estimators': 95},\n",
              "  {'meta_regressor__learning_rate': 0.2, 'meta_regressor__n_estimators': 100},\n",
              "  {'meta_regressor__learning_rate': 0.2, 'meta_regressor__n_estimators': 105},\n",
              "  {'meta_regressor__learning_rate': 0.25, 'meta_regressor__n_estimators': 85},\n",
              "  {'meta_regressor__learning_rate': 0.25, 'meta_regressor__n_estimators': 90},\n",
              "  {'meta_regressor__learning_rate': 0.25, 'meta_regressor__n_estimators': 95},\n",
              "  {'meta_regressor__learning_rate': 0.25, 'meta_regressor__n_estimators': 100},\n",
              "  {'meta_regressor__learning_rate': 0.25, 'meta_regressor__n_estimators': 105},\n",
              "  {'meta_regressor__learning_rate': 0.3, 'meta_regressor__n_estimators': 85},\n",
              "  {'meta_regressor__learning_rate': 0.3, 'meta_regressor__n_estimators': 90},\n",
              "  {'meta_regressor__learning_rate': 0.3, 'meta_regressor__n_estimators': 95},\n",
              "  {'meta_regressor__learning_rate': 0.3, 'meta_regressor__n_estimators': 100},\n",
              "  {'meta_regressor__learning_rate': 0.3, 'meta_regressor__n_estimators': 105}],\n",
              " 'rank_test_score': array([19, 14,  4,  1, 12,  7, 11,  2, 18, 13,  8,  6, 16, 10, 15, 17,  3,\n",
              "        20,  5,  9], dtype=int32),\n",
              " 'split0_test_score': array([-0.03257252, -0.03257253, -0.03257252, -0.03257252, -0.03257252,\n",
              "        -0.03257252, -0.03257252, -0.03257251, -0.03257252, -0.03257253,\n",
              "        -0.03257252, -0.03257252, -0.03257252, -0.03257252, -0.03257252,\n",
              "        -0.03257252, -0.03257252, -0.03257253, -0.03257252, -0.03257252]),\n",
              " 'split1_test_score': array([-0.03228014, -0.03228014, -0.03228013, -0.03228013, -0.03228013,\n",
              "        -0.03228013, -0.03228014, -0.03228013, -0.03228013, -0.03228013,\n",
              "        -0.03228014, -0.03228012, -0.03228014, -0.03228013, -0.03228013,\n",
              "        -0.03228013, -0.03228013, -0.03228013, -0.03228013, -0.03228013]),\n",
              " 'split2_test_score': array([-0.03502348, -0.03502348, -0.03502349, -0.03502348, -0.03502349,\n",
              "        -0.03502349, -0.03502349, -0.03502349, -0.03502349, -0.03502349,\n",
              "        -0.03502349, -0.03502349, -0.03502349, -0.03502349, -0.03502349,\n",
              "        -0.03502349, -0.03502349, -0.03502349, -0.03502349, -0.03502349]),\n",
              " 'split3_test_score': array([-0.0332406 , -0.0332406 , -0.03324059, -0.03324059, -0.03324059,\n",
              "        -0.03324059, -0.03324059, -0.03324059, -0.03324061, -0.03324058,\n",
              "        -0.03324059, -0.03324059, -0.0332406 , -0.03324059, -0.0332406 ,\n",
              "        -0.0332406 , -0.03324059, -0.0332406 , -0.03324059, -0.03324059]),\n",
              " 'split4_test_score': array([-0.0394723 , -0.0394723 , -0.0394723 , -0.03947229, -0.0394723 ,\n",
              "        -0.0394723 , -0.0394723 , -0.0394723 , -0.03947231, -0.0394723 ,\n",
              "        -0.0394723 , -0.03947231, -0.0394723 , -0.03947231, -0.03947231,\n",
              "        -0.03947231, -0.03947229, -0.03947231, -0.0394723 , -0.0394723 ]),\n",
              " 'std_fit_time': array([0.0089264 , 0.00467526, 0.01212575, 0.0033749 , 0.00641744,\n",
              "        0.00782694, 0.00401839, 0.00690444, 0.00656417, 0.0078149 ,\n",
              "        0.00220846, 0.00727858, 0.00516023, 0.00340954, 0.00858798,\n",
              "        0.00267256, 0.0044033 , 0.00567105, 0.00258351, 0.00292904]),\n",
              " 'std_score_time': array([6.28013697e-04, 2.94749768e-04, 3.11264037e-04, 6.52186726e-04,\n",
              "        5.20715312e-04, 1.40054355e-04, 1.67304798e-04, 5.19411176e-04,\n",
              "        4.77920722e-04, 8.13042522e-04, 2.68725785e-04, 5.63337251e-04,\n",
              "        1.51392651e-04, 1.52004961e-04, 6.49133459e-04, 2.34426212e-04,\n",
              "        7.72777054e-04, 5.19552542e-05, 2.24948373e-04, 7.71940894e-05]),\n",
              " 'std_test_score': array([0.00265425, 0.00265425, 0.00265426, 0.00265425, 0.00265426,\n",
              "        0.00265425, 0.00265425, 0.00265426, 0.00265426, 0.00265426,\n",
              "        0.00265425, 0.00265426, 0.00265425, 0.00265426, 0.00265426,\n",
              "        0.00265426, 0.00265425, 0.00265426, 0.00265425, 0.00265426])}"
            ]
          },
          "metadata": {
            "tags": []
          },
          "execution_count": 136
        }
      ]
    },
    {
      "cell_type": "code",
      "metadata": {
        "id": "7UYizTvW0Ogy",
        "colab_type": "code",
        "colab": {}
      },
      "source": [
        "rfr=RandomForestRegressor(max_samples=0.7,oob_score=True,max_depth=2,min_samples_split=250)\n",
        "lr=LinearRegression()\n",
        "sgd=SGDRegressor(penalty=\"l2\",learning_rate=\"constant\",alpha=10)\n",
        "xgb=xgboost.XGBRegressor(booster=\"gblinear\",subsample=0.7,colsample_bytree=0.7,missing=0.00,learning_rate=0.18,n_estimators=100)"
      ],
      "execution_count": 258,
      "outputs": []
    },
    {
      "cell_type": "code",
      "metadata": {
        "id": "qXhwRj0uzYnP",
        "colab_type": "code",
        "colab": {}
      },
      "source": [
        "stregr=StackingRegressor(regressors=[xgb,rfr,svr],meta_regressor=sgd)"
      ],
      "execution_count": 259,
      "outputs": []
    },
    {
      "cell_type": "code",
      "metadata": {
        "id": "KPVzwNNq0bLq",
        "colab_type": "code",
        "colab": {
          "base_uri": "https://localhost:8080/",
          "height": 456
        },
        "outputId": "c0665787-5c4c-4ec9-bd8d-a1559cfb614d"
      },
      "source": [
        "stregr.fit(train_vectorised,ytrain)"
      ],
      "execution_count": 260,
      "outputs": [
        {
          "output_type": "stream",
          "text": [
            "[12:57:30] WARNING: /workspace/src/objective/regression_obj.cu:152: reg:linear is now deprecated in favor of reg:squarederror.\n"
          ],
          "name": "stdout"
        },
        {
          "output_type": "execute_result",
          "data": {
            "text/plain": [
              "StackingRegressor(meta_regressor=SGDRegressor(alpha=10, average=False,\n",
              "                                              early_stopping=False, epsilon=0.1,\n",
              "                                              eta0=0.01, fit_intercept=True,\n",
              "                                              l1_ratio=0.15,\n",
              "                                              learning_rate='constant',\n",
              "                                              loss='squared_loss',\n",
              "                                              max_iter=1000, n_iter_no_change=5,\n",
              "                                              penalty='l2', power_t=0.25,\n",
              "                                              random_state=None, shuffle=True,\n",
              "                                              tol=0.001,\n",
              "                                              validation_fraction=0.1,\n",
              "                                              verbose=0, warm_start=False),\n",
              "                  refit=Tr...\n",
              "                                                    min_samples_split=250,\n",
              "                                                    min_weight_fraction_leaf=0.0,\n",
              "                                                    n_estimators=100,\n",
              "                                                    n_jobs=None, oob_score=True,\n",
              "                                                    random_state=None,\n",
              "                                                    verbose=0,\n",
              "                                                    warm_start=False),\n",
              "                              SVR(C=0.01, cache_size=200, coef0=0.0, degree=3,\n",
              "                                  epsilon=0.1, gamma='scale', kernel='rbf',\n",
              "                                  max_iter=-1, shrinking=True, tol=0.001,\n",
              "                                  verbose=False)],\n",
              "                  store_train_meta_features=False,\n",
              "                  use_features_in_secondary=False, verbose=0)"
            ]
          },
          "metadata": {
            "tags": []
          },
          "execution_count": 260
        }
      ]
    },
    {
      "cell_type": "code",
      "metadata": {
        "id": "bOo23pMo3T2L",
        "colab_type": "code",
        "colab": {}
      },
      "source": [
        "train_predict=stregr.predict(train_vectorised)"
      ],
      "execution_count": 261,
      "outputs": []
    },
    {
      "cell_type": "code",
      "metadata": {
        "id": "EpU6fhmu3pfg",
        "colab_type": "code",
        "colab": {}
      },
      "source": [
        "test_predict=stregr.predict(test_vectorised)"
      ],
      "execution_count": 262,
      "outputs": []
    },
    {
      "cell_type": "code",
      "metadata": {
        "id": "LGfVelFc3x3y",
        "colab_type": "code",
        "colab": {
          "base_uri": "https://localhost:8080/",
          "height": 33
        },
        "outputId": "ca90f41e-3f76-4723-cc1d-64b744d58c1c"
      },
      "source": [
        "mean_squared_error(ytrain,train_predict)"
      ],
      "execution_count": 263,
      "outputs": [
        {
          "output_type": "execute_result",
          "data": {
            "text/plain": [
              "0.0345998278374546"
            ]
          },
          "metadata": {
            "tags": []
          },
          "execution_count": 263
        }
      ]
    },
    {
      "cell_type": "code",
      "metadata": {
        "id": "V0VSeXYX390D",
        "colab_type": "code",
        "colab": {}
      },
      "source": [
        "final_data=pd.DataFrame(np.hstack((np.array(xtest_filled[\"Employee_ID\"]).reshape(3000,1),test_predict.reshape(3000,1))),columns=[\"Employee_ID\",\"Attrition_rate\"])\n",
        "final_data.to_csv(\"finial_data.csv\",index=False)"
      ],
      "execution_count": 264,
      "outputs": []
    },
    {
      "cell_type": "code",
      "metadata": {
        "id": "PRbByZgu4Bs6",
        "colab_type": "code",
        "colab": {}
      },
      "source": [
        ""
      ],
      "execution_count": null,
      "outputs": []
    }
  ]
}